{
 "cells": [
  {
   "cell_type": "markdown",
   "id": "386f2ae7",
   "metadata": {
    "deletable": false,
    "editable": false,
    "id": "386f2ae7"
   },
   "source": [
    "# Исследование надежности заемщиков\n"
   ]
  },
  {
   "cell_type": "markdown",
   "id": "ffe86f65",
   "metadata": {
    "deletable": false,
    "editable": false,
    "id": "ffe86f65"
   },
   "source": [
    "Во второй части проекта вы выполните шаги 3 и 4. Их вручную проверит ревьюер.\n",
    "Чтобы вам не пришлось писать код заново для шагов 1 и 2, мы добавили авторские решения в ячейки с кодом. \n",
    "\n"
   ]
  },
  {
   "cell_type": "markdown",
   "id": "26613308",
   "metadata": {
    "deletable": false,
    "editable": false,
    "id": "26613308"
   },
   "source": [
    "## Откройте таблицу и изучите общую информацию о данных"
   ]
  },
  {
   "cell_type": "markdown",
   "id": "3c9f838e",
   "metadata": {
    "deletable": false,
    "editable": false,
    "id": "3c9f838e"
   },
   "source": [
    "**Задание 1. Импортируйте библиотеку pandas. Считайте данные из csv-файла в датафрейм и сохраните в переменную `data`. Путь к файлу:**\n",
    "\n",
    "`/datasets/data.csv`"
   ]
  },
  {
   "cell_type": "code",
   "execution_count": 1,
   "id": "77a68a90",
   "metadata": {
    "deletable": false,
    "id": "77a68a90"
   },
   "outputs": [],
   "source": [
    "import pandas as pd\n",
    "\n",
    "try:\n",
    "    data = pd.read_csv('/datasets/data.csv')\n",
    "except:\n",
    "    data = pd.read_csv('https://code.s3.yandex.net/datasets/data.csv')"
   ]
  },
  {
   "cell_type": "markdown",
   "id": "45365635",
   "metadata": {
    "deletable": false,
    "editable": false,
    "id": "45365635"
   },
   "source": [
    "**Задание 2. Выведите первые 20 строчек датафрейма `data` на экран.**"
   ]
  },
  {
   "cell_type": "code",
   "execution_count": 2,
   "id": "b0451a9a",
   "metadata": {
    "deletable": false,
    "id": "b0451a9a",
    "outputId": "1a8f3ef2-d323-4ec2-ddf7-89670b5944c4"
   },
   "outputs": [
    {
     "data": {
      "text/html": [
       "<div>\n",
       "<style scoped>\n",
       "    .dataframe tbody tr th:only-of-type {\n",
       "        vertical-align: middle;\n",
       "    }\n",
       "\n",
       "    .dataframe tbody tr th {\n",
       "        vertical-align: top;\n",
       "    }\n",
       "\n",
       "    .dataframe thead th {\n",
       "        text-align: right;\n",
       "    }\n",
       "</style>\n",
       "<table border=\"1\" class=\"dataframe\">\n",
       "  <thead>\n",
       "    <tr style=\"text-align: right;\">\n",
       "      <th></th>\n",
       "      <th>children</th>\n",
       "      <th>days_employed</th>\n",
       "      <th>dob_years</th>\n",
       "      <th>education</th>\n",
       "      <th>education_id</th>\n",
       "      <th>family_status</th>\n",
       "      <th>family_status_id</th>\n",
       "      <th>gender</th>\n",
       "      <th>income_type</th>\n",
       "      <th>debt</th>\n",
       "      <th>total_income</th>\n",
       "      <th>purpose</th>\n",
       "    </tr>\n",
       "  </thead>\n",
       "  <tbody>\n",
       "    <tr>\n",
       "      <th>0</th>\n",
       "      <td>1</td>\n",
       "      <td>-8437.673028</td>\n",
       "      <td>42</td>\n",
       "      <td>высшее</td>\n",
       "      <td>0</td>\n",
       "      <td>женат / замужем</td>\n",
       "      <td>0</td>\n",
       "      <td>F</td>\n",
       "      <td>сотрудник</td>\n",
       "      <td>0</td>\n",
       "      <td>253875.639453</td>\n",
       "      <td>покупка жилья</td>\n",
       "    </tr>\n",
       "    <tr>\n",
       "      <th>1</th>\n",
       "      <td>1</td>\n",
       "      <td>-4024.803754</td>\n",
       "      <td>36</td>\n",
       "      <td>среднее</td>\n",
       "      <td>1</td>\n",
       "      <td>женат / замужем</td>\n",
       "      <td>0</td>\n",
       "      <td>F</td>\n",
       "      <td>сотрудник</td>\n",
       "      <td>0</td>\n",
       "      <td>112080.014102</td>\n",
       "      <td>приобретение автомобиля</td>\n",
       "    </tr>\n",
       "    <tr>\n",
       "      <th>2</th>\n",
       "      <td>0</td>\n",
       "      <td>-5623.422610</td>\n",
       "      <td>33</td>\n",
       "      <td>Среднее</td>\n",
       "      <td>1</td>\n",
       "      <td>женат / замужем</td>\n",
       "      <td>0</td>\n",
       "      <td>M</td>\n",
       "      <td>сотрудник</td>\n",
       "      <td>0</td>\n",
       "      <td>145885.952297</td>\n",
       "      <td>покупка жилья</td>\n",
       "    </tr>\n",
       "    <tr>\n",
       "      <th>3</th>\n",
       "      <td>3</td>\n",
       "      <td>-4124.747207</td>\n",
       "      <td>32</td>\n",
       "      <td>среднее</td>\n",
       "      <td>1</td>\n",
       "      <td>женат / замужем</td>\n",
       "      <td>0</td>\n",
       "      <td>M</td>\n",
       "      <td>сотрудник</td>\n",
       "      <td>0</td>\n",
       "      <td>267628.550329</td>\n",
       "      <td>дополнительное образование</td>\n",
       "    </tr>\n",
       "    <tr>\n",
       "      <th>4</th>\n",
       "      <td>0</td>\n",
       "      <td>340266.072047</td>\n",
       "      <td>53</td>\n",
       "      <td>среднее</td>\n",
       "      <td>1</td>\n",
       "      <td>гражданский брак</td>\n",
       "      <td>1</td>\n",
       "      <td>F</td>\n",
       "      <td>пенсионер</td>\n",
       "      <td>0</td>\n",
       "      <td>158616.077870</td>\n",
       "      <td>сыграть свадьбу</td>\n",
       "    </tr>\n",
       "    <tr>\n",
       "      <th>5</th>\n",
       "      <td>0</td>\n",
       "      <td>-926.185831</td>\n",
       "      <td>27</td>\n",
       "      <td>высшее</td>\n",
       "      <td>0</td>\n",
       "      <td>гражданский брак</td>\n",
       "      <td>1</td>\n",
       "      <td>M</td>\n",
       "      <td>компаньон</td>\n",
       "      <td>0</td>\n",
       "      <td>255763.565419</td>\n",
       "      <td>покупка жилья</td>\n",
       "    </tr>\n",
       "    <tr>\n",
       "      <th>6</th>\n",
       "      <td>0</td>\n",
       "      <td>-2879.202052</td>\n",
       "      <td>43</td>\n",
       "      <td>высшее</td>\n",
       "      <td>0</td>\n",
       "      <td>женат / замужем</td>\n",
       "      <td>0</td>\n",
       "      <td>F</td>\n",
       "      <td>компаньон</td>\n",
       "      <td>0</td>\n",
       "      <td>240525.971920</td>\n",
       "      <td>операции с жильем</td>\n",
       "    </tr>\n",
       "    <tr>\n",
       "      <th>7</th>\n",
       "      <td>0</td>\n",
       "      <td>-152.779569</td>\n",
       "      <td>50</td>\n",
       "      <td>СРЕДНЕЕ</td>\n",
       "      <td>1</td>\n",
       "      <td>женат / замужем</td>\n",
       "      <td>0</td>\n",
       "      <td>M</td>\n",
       "      <td>сотрудник</td>\n",
       "      <td>0</td>\n",
       "      <td>135823.934197</td>\n",
       "      <td>образование</td>\n",
       "    </tr>\n",
       "    <tr>\n",
       "      <th>8</th>\n",
       "      <td>2</td>\n",
       "      <td>-6929.865299</td>\n",
       "      <td>35</td>\n",
       "      <td>ВЫСШЕЕ</td>\n",
       "      <td>0</td>\n",
       "      <td>гражданский брак</td>\n",
       "      <td>1</td>\n",
       "      <td>F</td>\n",
       "      <td>сотрудник</td>\n",
       "      <td>0</td>\n",
       "      <td>95856.832424</td>\n",
       "      <td>на проведение свадьбы</td>\n",
       "    </tr>\n",
       "    <tr>\n",
       "      <th>9</th>\n",
       "      <td>0</td>\n",
       "      <td>-2188.756445</td>\n",
       "      <td>41</td>\n",
       "      <td>среднее</td>\n",
       "      <td>1</td>\n",
       "      <td>женат / замужем</td>\n",
       "      <td>0</td>\n",
       "      <td>M</td>\n",
       "      <td>сотрудник</td>\n",
       "      <td>0</td>\n",
       "      <td>144425.938277</td>\n",
       "      <td>покупка жилья для семьи</td>\n",
       "    </tr>\n",
       "    <tr>\n",
       "      <th>10</th>\n",
       "      <td>2</td>\n",
       "      <td>-4171.483647</td>\n",
       "      <td>36</td>\n",
       "      <td>высшее</td>\n",
       "      <td>0</td>\n",
       "      <td>женат / замужем</td>\n",
       "      <td>0</td>\n",
       "      <td>M</td>\n",
       "      <td>компаньон</td>\n",
       "      <td>0</td>\n",
       "      <td>113943.491460</td>\n",
       "      <td>покупка недвижимости</td>\n",
       "    </tr>\n",
       "    <tr>\n",
       "      <th>11</th>\n",
       "      <td>0</td>\n",
       "      <td>-792.701887</td>\n",
       "      <td>40</td>\n",
       "      <td>среднее</td>\n",
       "      <td>1</td>\n",
       "      <td>женат / замужем</td>\n",
       "      <td>0</td>\n",
       "      <td>F</td>\n",
       "      <td>сотрудник</td>\n",
       "      <td>0</td>\n",
       "      <td>77069.234271</td>\n",
       "      <td>покупка коммерческой недвижимости</td>\n",
       "    </tr>\n",
       "    <tr>\n",
       "      <th>12</th>\n",
       "      <td>0</td>\n",
       "      <td>NaN</td>\n",
       "      <td>65</td>\n",
       "      <td>среднее</td>\n",
       "      <td>1</td>\n",
       "      <td>гражданский брак</td>\n",
       "      <td>1</td>\n",
       "      <td>M</td>\n",
       "      <td>пенсионер</td>\n",
       "      <td>0</td>\n",
       "      <td>NaN</td>\n",
       "      <td>сыграть свадьбу</td>\n",
       "    </tr>\n",
       "    <tr>\n",
       "      <th>13</th>\n",
       "      <td>0</td>\n",
       "      <td>-1846.641941</td>\n",
       "      <td>54</td>\n",
       "      <td>неоконченное высшее</td>\n",
       "      <td>2</td>\n",
       "      <td>женат / замужем</td>\n",
       "      <td>0</td>\n",
       "      <td>F</td>\n",
       "      <td>сотрудник</td>\n",
       "      <td>0</td>\n",
       "      <td>130458.228857</td>\n",
       "      <td>приобретение автомобиля</td>\n",
       "    </tr>\n",
       "    <tr>\n",
       "      <th>14</th>\n",
       "      <td>0</td>\n",
       "      <td>-1844.956182</td>\n",
       "      <td>56</td>\n",
       "      <td>высшее</td>\n",
       "      <td>0</td>\n",
       "      <td>гражданский брак</td>\n",
       "      <td>1</td>\n",
       "      <td>F</td>\n",
       "      <td>компаньон</td>\n",
       "      <td>1</td>\n",
       "      <td>165127.911772</td>\n",
       "      <td>покупка жилой недвижимости</td>\n",
       "    </tr>\n",
       "    <tr>\n",
       "      <th>15</th>\n",
       "      <td>1</td>\n",
       "      <td>-972.364419</td>\n",
       "      <td>26</td>\n",
       "      <td>среднее</td>\n",
       "      <td>1</td>\n",
       "      <td>женат / замужем</td>\n",
       "      <td>0</td>\n",
       "      <td>F</td>\n",
       "      <td>сотрудник</td>\n",
       "      <td>0</td>\n",
       "      <td>116820.904450</td>\n",
       "      <td>строительство собственной недвижимости</td>\n",
       "    </tr>\n",
       "    <tr>\n",
       "      <th>16</th>\n",
       "      <td>0</td>\n",
       "      <td>-1719.934226</td>\n",
       "      <td>35</td>\n",
       "      <td>среднее</td>\n",
       "      <td>1</td>\n",
       "      <td>женат / замужем</td>\n",
       "      <td>0</td>\n",
       "      <td>F</td>\n",
       "      <td>сотрудник</td>\n",
       "      <td>0</td>\n",
       "      <td>289202.704229</td>\n",
       "      <td>недвижимость</td>\n",
       "    </tr>\n",
       "    <tr>\n",
       "      <th>17</th>\n",
       "      <td>0</td>\n",
       "      <td>-2369.999720</td>\n",
       "      <td>33</td>\n",
       "      <td>высшее</td>\n",
       "      <td>0</td>\n",
       "      <td>гражданский брак</td>\n",
       "      <td>1</td>\n",
       "      <td>M</td>\n",
       "      <td>сотрудник</td>\n",
       "      <td>0</td>\n",
       "      <td>90410.586745</td>\n",
       "      <td>строительство недвижимости</td>\n",
       "    </tr>\n",
       "    <tr>\n",
       "      <th>18</th>\n",
       "      <td>0</td>\n",
       "      <td>400281.136913</td>\n",
       "      <td>53</td>\n",
       "      <td>среднее</td>\n",
       "      <td>1</td>\n",
       "      <td>вдовец / вдова</td>\n",
       "      <td>2</td>\n",
       "      <td>F</td>\n",
       "      <td>пенсионер</td>\n",
       "      <td>0</td>\n",
       "      <td>56823.777243</td>\n",
       "      <td>на покупку подержанного автомобиля</td>\n",
       "    </tr>\n",
       "    <tr>\n",
       "      <th>19</th>\n",
       "      <td>0</td>\n",
       "      <td>-10038.818549</td>\n",
       "      <td>48</td>\n",
       "      <td>СРЕДНЕЕ</td>\n",
       "      <td>1</td>\n",
       "      <td>в разводе</td>\n",
       "      <td>3</td>\n",
       "      <td>F</td>\n",
       "      <td>сотрудник</td>\n",
       "      <td>0</td>\n",
       "      <td>242831.107982</td>\n",
       "      <td>на покупку своего автомобиля</td>\n",
       "    </tr>\n",
       "  </tbody>\n",
       "</table>\n",
       "</div>"
      ],
      "text/plain": [
       "    children  days_employed  dob_years            education  education_id  \\\n",
       "0          1   -8437.673028         42               высшее             0   \n",
       "1          1   -4024.803754         36              среднее             1   \n",
       "2          0   -5623.422610         33              Среднее             1   \n",
       "3          3   -4124.747207         32              среднее             1   \n",
       "4          0  340266.072047         53              среднее             1   \n",
       "5          0    -926.185831         27               высшее             0   \n",
       "6          0   -2879.202052         43               высшее             0   \n",
       "7          0    -152.779569         50              СРЕДНЕЕ             1   \n",
       "8          2   -6929.865299         35               ВЫСШЕЕ             0   \n",
       "9          0   -2188.756445         41              среднее             1   \n",
       "10         2   -4171.483647         36               высшее             0   \n",
       "11         0    -792.701887         40              среднее             1   \n",
       "12         0            NaN         65              среднее             1   \n",
       "13         0   -1846.641941         54  неоконченное высшее             2   \n",
       "14         0   -1844.956182         56               высшее             0   \n",
       "15         1    -972.364419         26              среднее             1   \n",
       "16         0   -1719.934226         35              среднее             1   \n",
       "17         0   -2369.999720         33               высшее             0   \n",
       "18         0  400281.136913         53              среднее             1   \n",
       "19         0  -10038.818549         48              СРЕДНЕЕ             1   \n",
       "\n",
       "       family_status  family_status_id gender income_type  debt  \\\n",
       "0    женат / замужем                 0      F   сотрудник     0   \n",
       "1    женат / замужем                 0      F   сотрудник     0   \n",
       "2    женат / замужем                 0      M   сотрудник     0   \n",
       "3    женат / замужем                 0      M   сотрудник     0   \n",
       "4   гражданский брак                 1      F   пенсионер     0   \n",
       "5   гражданский брак                 1      M   компаньон     0   \n",
       "6    женат / замужем                 0      F   компаньон     0   \n",
       "7    женат / замужем                 0      M   сотрудник     0   \n",
       "8   гражданский брак                 1      F   сотрудник     0   \n",
       "9    женат / замужем                 0      M   сотрудник     0   \n",
       "10   женат / замужем                 0      M   компаньон     0   \n",
       "11   женат / замужем                 0      F   сотрудник     0   \n",
       "12  гражданский брак                 1      M   пенсионер     0   \n",
       "13   женат / замужем                 0      F   сотрудник     0   \n",
       "14  гражданский брак                 1      F   компаньон     1   \n",
       "15   женат / замужем                 0      F   сотрудник     0   \n",
       "16   женат / замужем                 0      F   сотрудник     0   \n",
       "17  гражданский брак                 1      M   сотрудник     0   \n",
       "18    вдовец / вдова                 2      F   пенсионер     0   \n",
       "19         в разводе                 3      F   сотрудник     0   \n",
       "\n",
       "     total_income                                 purpose  \n",
       "0   253875.639453                           покупка жилья  \n",
       "1   112080.014102                 приобретение автомобиля  \n",
       "2   145885.952297                           покупка жилья  \n",
       "3   267628.550329              дополнительное образование  \n",
       "4   158616.077870                         сыграть свадьбу  \n",
       "5   255763.565419                           покупка жилья  \n",
       "6   240525.971920                       операции с жильем  \n",
       "7   135823.934197                             образование  \n",
       "8    95856.832424                   на проведение свадьбы  \n",
       "9   144425.938277                 покупка жилья для семьи  \n",
       "10  113943.491460                    покупка недвижимости  \n",
       "11   77069.234271       покупка коммерческой недвижимости  \n",
       "12            NaN                         сыграть свадьбу  \n",
       "13  130458.228857                 приобретение автомобиля  \n",
       "14  165127.911772              покупка жилой недвижимости  \n",
       "15  116820.904450  строительство собственной недвижимости  \n",
       "16  289202.704229                            недвижимость  \n",
       "17   90410.586745              строительство недвижимости  \n",
       "18   56823.777243      на покупку подержанного автомобиля  \n",
       "19  242831.107982            на покупку своего автомобиля  "
      ]
     },
     "execution_count": 2,
     "metadata": {},
     "output_type": "execute_result"
    }
   ],
   "source": [
    "data.head(20)"
   ]
  },
  {
   "cell_type": "markdown",
   "id": "0ed8f27f",
   "metadata": {
    "deletable": false,
    "editable": false,
    "id": "0ed8f27f"
   },
   "source": [
    "**Задание 3. Выведите основную информацию о датафрейме с помощью метода `info()`.**"
   ]
  },
  {
   "cell_type": "code",
   "execution_count": 3,
   "id": "ab3f863b",
   "metadata": {
    "deletable": false,
    "id": "ab3f863b",
    "outputId": "15376089-8dad-46c9-b520-c05248d43158"
   },
   "outputs": [
    {
     "name": "stdout",
     "output_type": "stream",
     "text": [
      "<class 'pandas.core.frame.DataFrame'>\n",
      "RangeIndex: 21525 entries, 0 to 21524\n",
      "Data columns (total 12 columns):\n",
      " #   Column            Non-Null Count  Dtype  \n",
      "---  ------            --------------  -----  \n",
      " 0   children          21525 non-null  int64  \n",
      " 1   days_employed     19351 non-null  float64\n",
      " 2   dob_years         21525 non-null  int64  \n",
      " 3   education         21525 non-null  object \n",
      " 4   education_id      21525 non-null  int64  \n",
      " 5   family_status     21525 non-null  object \n",
      " 6   family_status_id  21525 non-null  int64  \n",
      " 7   gender            21525 non-null  object \n",
      " 8   income_type       21525 non-null  object \n",
      " 9   debt              21525 non-null  int64  \n",
      " 10  total_income      19351 non-null  float64\n",
      " 11  purpose           21525 non-null  object \n",
      "dtypes: float64(2), int64(5), object(5)\n",
      "memory usage: 2.0+ MB\n"
     ]
    }
   ],
   "source": [
    "data.info()"
   ]
  },
  {
   "cell_type": "markdown",
   "id": "60e3e22d",
   "metadata": {
    "deletable": false,
    "editable": false,
    "id": "60e3e22d"
   },
   "source": [
    "## Предобработка данных"
   ]
  },
  {
   "cell_type": "markdown",
   "id": "03dc170c",
   "metadata": {
    "deletable": false,
    "editable": false,
    "id": "03dc170c"
   },
   "source": [
    "### Удаление пропусков"
   ]
  },
  {
   "cell_type": "markdown",
   "id": "a4f54eef",
   "metadata": {
    "deletable": false,
    "editable": false,
    "id": "a4f54eef"
   },
   "source": [
    "**Задание 4. Выведите количество пропущенных значений для каждого столбца. Используйте комбинацию двух методов.**"
   ]
  },
  {
   "cell_type": "code",
   "execution_count": 4,
   "id": "2dc372b2",
   "metadata": {
    "deletable": false,
    "id": "2dc372b2",
    "outputId": "81f4d817-781c-465c-ed15-91ce4446810d"
   },
   "outputs": [
    {
     "data": {
      "text/plain": [
       "children               0\n",
       "days_employed       2174\n",
       "dob_years              0\n",
       "education              0\n",
       "education_id           0\n",
       "family_status          0\n",
       "family_status_id       0\n",
       "gender                 0\n",
       "income_type            0\n",
       "debt                   0\n",
       "total_income        2174\n",
       "purpose                0\n",
       "dtype: int64"
      ]
     },
     "execution_count": 4,
     "metadata": {},
     "output_type": "execute_result"
    }
   ],
   "source": [
    "data.isna().sum()"
   ]
  },
  {
   "cell_type": "markdown",
   "id": "14f011b1",
   "metadata": {
    "deletable": false,
    "editable": false,
    "id": "14f011b1"
   },
   "source": [
    "**Задание 5. В двух столбцах есть пропущенные значения. Один из них — `days_employed`. Пропуски в этом столбце вы обработаете на следующем этапе. Другой столбец с пропущенными значениями — `total_income` — хранит данные о доходах. На сумму дохода сильнее всего влияет тип занятости, поэтому заполнить пропуски в этом столбце нужно медианным значением по каждому типу из столбца `income_type`. Например, у человека с типом занятости `сотрудник` пропуск в столбце `total_income` должен быть заполнен медианным доходом среди всех записей с тем же типом.**"
   ]
  },
  {
   "cell_type": "code",
   "execution_count": 5,
   "id": "bdabfb6e",
   "metadata": {
    "deletable": false,
    "id": "bdabfb6e"
   },
   "outputs": [],
   "source": [
    "for t in data['income_type'].unique():\n",
    "    data.loc[(data['income_type'] == t) & (data['total_income'].isna()), 'total_income'] = \\\n",
    "    data.loc[(data['income_type'] == t), 'total_income'].median()"
   ]
  },
  {
   "cell_type": "markdown",
   "id": "5be34059",
   "metadata": {
    "deletable": false,
    "editable": false,
    "id": "5be34059"
   },
   "source": [
    "### Обработка аномальных значений"
   ]
  },
  {
   "cell_type": "markdown",
   "id": "a87606cb",
   "metadata": {
    "deletable": false,
    "editable": false,
    "id": "a87606cb"
   },
   "source": [
    "**Задание 6. В данных могут встречаться артефакты (аномалии) — значения, которые не отражают действительность и появились по какой-то ошибке. таким артефактом будет отрицательное количество дней трудового стажа в столбце `days_employed`. Для реальных данных это нормально. Обработайте значения в этом столбце: замените все отрицательные значения положительными с помощью метода `abs()`.**"
   ]
  },
  {
   "cell_type": "code",
   "execution_count": 6,
   "id": "020c46cc",
   "metadata": {
    "deletable": false,
    "id": "020c46cc"
   },
   "outputs": [],
   "source": [
    "data['days_employed'] = data['days_employed'].abs()"
   ]
  },
  {
   "cell_type": "markdown",
   "id": "45538a3a",
   "metadata": {
    "deletable": false,
    "editable": false,
    "id": "45538a3a"
   },
   "source": [
    "**Задание 7. Для каждого типа занятости выведите медианное значение трудового стажа `days_employed` в днях.**"
   ]
  },
  {
   "cell_type": "code",
   "execution_count": 7,
   "id": "cd3e6328",
   "metadata": {
    "deletable": false,
    "id": "cd3e6328",
    "outputId": "801ef80e-522b-4668-f34e-565af7432bcf"
   },
   "outputs": [
    {
     "data": {
      "text/plain": [
       "income_type\n",
       "безработный        366413.652744\n",
       "в декрете            3296.759962\n",
       "госслужащий          2689.368353\n",
       "компаньон            1547.382223\n",
       "пенсионер          365213.306266\n",
       "предприниматель       520.848083\n",
       "сотрудник            1574.202821\n",
       "студент               578.751554\n",
       "Name: days_employed, dtype: float64"
      ]
     },
     "execution_count": 7,
     "metadata": {},
     "output_type": "execute_result"
    }
   ],
   "source": [
    "data.groupby('income_type')['days_employed'].agg('median')"
   ]
  },
  {
   "cell_type": "markdown",
   "id": "90c5f058",
   "metadata": {
    "deletable": false,
    "editable": false,
    "id": "90c5f058"
   },
   "source": [
    "У двух типов (безработные и пенсионеры) получатся аномально большие значения. Исправить такие значения сложно, поэтому оставьте их как есть."
   ]
  },
  {
   "cell_type": "markdown",
   "id": "9652e50d",
   "metadata": {
    "deletable": false,
    "editable": false,
    "id": "9652e50d"
   },
   "source": [
    "**Задание 8. Выведите перечень уникальных значений столбца `children`.**"
   ]
  },
  {
   "cell_type": "code",
   "execution_count": 8,
   "id": "dbb37b8e",
   "metadata": {
    "deletable": false,
    "id": "dbb37b8e",
    "outputId": "6975b15c-7f95-4697-d16d-a0c79b657b03"
   },
   "outputs": [
    {
     "data": {
      "text/plain": [
       "array([ 1,  0,  3,  2, -1,  4, 20,  5], dtype=int64)"
      ]
     },
     "execution_count": 8,
     "metadata": {},
     "output_type": "execute_result"
    }
   ],
   "source": [
    "data['children'].unique()"
   ]
  },
  {
   "cell_type": "markdown",
   "id": "2b8b0715",
   "metadata": {
    "deletable": false,
    "editable": false,
    "id": "2b8b0715"
   },
   "source": [
    "**Задание 9. В столбце `children` есть два аномальных значения. Удалите строки, в которых встречаются такие аномальные значения из датафрейма `data`.**"
   ]
  },
  {
   "cell_type": "code",
   "execution_count": 9,
   "id": "20009df8",
   "metadata": {
    "deletable": false,
    "id": "20009df8"
   },
   "outputs": [],
   "source": [
    "data = data[(data['children'] != -1) & (data['children'] != 20)]"
   ]
  },
  {
   "cell_type": "markdown",
   "id": "8c6ac9f1",
   "metadata": {
    "deletable": false,
    "editable": false,
    "id": "8c6ac9f1"
   },
   "source": [
    "**Задание 10. Ещё раз выведите перечень уникальных значений столбца `children`, чтобы убедиться, что артефакты удалены.**"
   ]
  },
  {
   "cell_type": "code",
   "execution_count": 10,
   "id": "07337b81",
   "metadata": {
    "deletable": false,
    "id": "07337b81",
    "outputId": "b2097101-d49d-44d9-901b-32a65c9463d1"
   },
   "outputs": [
    {
     "data": {
      "text/plain": [
       "array([1, 0, 3, 2, 4, 5], dtype=int64)"
      ]
     },
     "execution_count": 10,
     "metadata": {},
     "output_type": "execute_result"
    }
   ],
   "source": [
    "data['children'].unique()"
   ]
  },
  {
   "cell_type": "markdown",
   "id": "ee3f52d4",
   "metadata": {
    "deletable": false,
    "editable": false,
    "id": "ee3f52d4"
   },
   "source": [
    "### Удаление пропусков (продолжение)"
   ]
  },
  {
   "cell_type": "markdown",
   "id": "a700b0e4",
   "metadata": {
    "deletable": false,
    "editable": false,
    "id": "a700b0e4"
   },
   "source": [
    "**Задание 11. Заполните пропуски в столбце `days_employed` медианными значениями по каждого типа занятости `income_type`.**"
   ]
  },
  {
   "cell_type": "code",
   "execution_count": 11,
   "id": "61946b83",
   "metadata": {
    "deletable": false,
    "id": "61946b83"
   },
   "outputs": [],
   "source": [
    "for t in data['income_type'].unique():\n",
    "    data.loc[(data['income_type'] == t) & (data['days_employed'].isna()), 'days_employed'] = \\\n",
    "    data.loc[(data['income_type'] == t), 'days_employed'].median()"
   ]
  },
  {
   "cell_type": "markdown",
   "id": "550dcd9b",
   "metadata": {
    "deletable": false,
    "editable": false,
    "id": "550dcd9b"
   },
   "source": [
    "**Задание 12. Убедитесь, что все пропуски заполнены. Проверьте себя и ещё раз выведите количество пропущенных значений для каждого столбца с помощью двух методов.**"
   ]
  },
  {
   "cell_type": "code",
   "execution_count": 12,
   "id": "937c7014",
   "metadata": {
    "deletable": false,
    "id": "937c7014",
    "outputId": "8da1e4e1-358e-4e87-98c9-f261bce0a7b2"
   },
   "outputs": [
    {
     "data": {
      "text/plain": [
       "children            0\n",
       "days_employed       0\n",
       "dob_years           0\n",
       "education           0\n",
       "education_id        0\n",
       "family_status       0\n",
       "family_status_id    0\n",
       "gender              0\n",
       "income_type         0\n",
       "debt                0\n",
       "total_income        0\n",
       "purpose             0\n",
       "dtype: int64"
      ]
     },
     "execution_count": 12,
     "metadata": {},
     "output_type": "execute_result"
    }
   ],
   "source": [
    "data.isna().sum()"
   ]
  },
  {
   "cell_type": "markdown",
   "id": "d522e295",
   "metadata": {
    "deletable": false,
    "editable": false,
    "id": "d522e295"
   },
   "source": [
    "### Изменение типов данных"
   ]
  },
  {
   "cell_type": "markdown",
   "id": "c229c581",
   "metadata": {
    "deletable": false,
    "editable": false,
    "id": "c229c581"
   },
   "source": [
    "**Задание 13. Замените вещественный тип данных в столбце `total_income` на целочисленный с помощью метода `astype()`.**"
   ]
  },
  {
   "cell_type": "code",
   "execution_count": 13,
   "id": "31036462",
   "metadata": {
    "deletable": false,
    "id": "31036462"
   },
   "outputs": [],
   "source": [
    "data['total_income'] = data['total_income'].astype(int)"
   ]
  },
  {
   "cell_type": "markdown",
   "id": "b8e3d1d9",
   "metadata": {
    "deletable": false,
    "editable": false,
    "id": "b8e3d1d9"
   },
   "source": [
    "### Обработка дубликатов"
   ]
  },
  {
   "cell_type": "markdown",
   "id": "9be53c49",
   "metadata": {
    "deletable": false,
    "editable": false,
    "id": "9be53c49"
   },
   "source": [
    "**Задание 14. Обработайте неявные дубликаты в столбце `education`. В этом столбце есть одни и те же значения, но записанные по-разному: с использованием заглавных и строчных букв. Приведите их к нижнему регистру.**"
   ]
  },
  {
   "cell_type": "code",
   "execution_count": 14,
   "id": "d89e73e1",
   "metadata": {
    "deletable": false,
    "id": "d89e73e1"
   },
   "outputs": [],
   "source": [
    "data['education'] = data['education'].str.lower()"
   ]
  },
  {
   "cell_type": "markdown",
   "id": "01d4500e",
   "metadata": {
    "deletable": false,
    "editable": false,
    "id": "01d4500e"
   },
   "source": [
    "**Задание 15. Выведите на экран количество строк-дубликатов в данных. Если такие строки присутствуют, удалите их.**"
   ]
  },
  {
   "cell_type": "code",
   "execution_count": 15,
   "id": "e10efb23",
   "metadata": {
    "deletable": false,
    "id": "e10efb23",
    "outputId": "9684deba-1934-42d1-99e1-cda61740f822"
   },
   "outputs": [
    {
     "data": {
      "text/plain": [
       "71"
      ]
     },
     "execution_count": 15,
     "metadata": {},
     "output_type": "execute_result"
    }
   ],
   "source": [
    "data.duplicated().sum()"
   ]
  },
  {
   "cell_type": "code",
   "execution_count": 16,
   "id": "df853f20",
   "metadata": {
    "deletable": false,
    "id": "df853f20"
   },
   "outputs": [],
   "source": [
    "data = data.drop_duplicates()"
   ]
  },
  {
   "cell_type": "markdown",
   "id": "627be38f",
   "metadata": {
    "deletable": false,
    "editable": false,
    "id": "627be38f"
   },
   "source": [
    "### Категоризация данных"
   ]
  },
  {
   "cell_type": "markdown",
   "id": "4684c3e0",
   "metadata": {
    "deletable": false,
    "editable": false,
    "id": "4684c3e0"
   },
   "source": [
    "**Задание 16. На основании диапазонов, указанных ниже, создайте в датафрейме `data` столбец `total_income_category` с категориями:**\n",
    "\n",
    "- 0–30000 — `'E'`;\n",
    "- 30001–50000 — `'D'`;\n",
    "- 50001–200000 — `'C'`;\n",
    "- 200001–1000000 — `'B'`;\n",
    "- 1000001 и выше — `'A'`.\n",
    "\n",
    "\n",
    "**Например, кредитополучателю с доходом 25000 нужно назначить категорию `'E'`, а клиенту, получающему 235000, — `'B'`. Используйте собственную функцию с именем `categorize_income()` и метод `apply()`.**"
   ]
  },
  {
   "cell_type": "code",
   "execution_count": 17,
   "id": "78965238",
   "metadata": {
    "deletable": false,
    "id": "78965238"
   },
   "outputs": [],
   "source": [
    "def categorize_income(income):\n",
    "    try:\n",
    "        if 0 <= income <= 30000:\n",
    "            return 'E'\n",
    "        elif 30001 <= income <= 50000:\n",
    "            return 'D'\n",
    "        elif 50001 <= income <= 200000:\n",
    "            return 'C'\n",
    "        elif 200001 <= income <= 1000000:\n",
    "            return 'B'\n",
    "        elif income >= 1000001:\n",
    "            return 'A'\n",
    "    except:\n",
    "        pass"
   ]
  },
  {
   "cell_type": "code",
   "execution_count": 18,
   "id": "0980ada1",
   "metadata": {
    "deletable": false,
    "id": "0980ada1"
   },
   "outputs": [],
   "source": [
    "data['total_income_category'] = data['total_income'].apply(categorize_income)"
   ]
  },
  {
   "cell_type": "markdown",
   "id": "9917bba0",
   "metadata": {
    "deletable": false,
    "editable": false,
    "id": "9917bba0"
   },
   "source": [
    "**Задание 17. Выведите на экран перечень уникальных целей взятия кредита из столбца `purpose`.**"
   ]
  },
  {
   "cell_type": "code",
   "execution_count": 19,
   "id": "ee07b65e",
   "metadata": {
    "deletable": false,
    "id": "ee07b65e",
    "outputId": "673c12d9-7d7e-4ae0-9812-c622c89dd244"
   },
   "outputs": [
    {
     "data": {
      "text/plain": [
       "array(['покупка жилья', 'приобретение автомобиля',\n",
       "       'дополнительное образование', 'сыграть свадьбу',\n",
       "       'операции с жильем', 'образование', 'на проведение свадьбы',\n",
       "       'покупка жилья для семьи', 'покупка недвижимости',\n",
       "       'покупка коммерческой недвижимости', 'покупка жилой недвижимости',\n",
       "       'строительство собственной недвижимости', 'недвижимость',\n",
       "       'строительство недвижимости', 'на покупку подержанного автомобиля',\n",
       "       'на покупку своего автомобиля',\n",
       "       'операции с коммерческой недвижимостью',\n",
       "       'строительство жилой недвижимости', 'жилье',\n",
       "       'операции со своей недвижимостью', 'автомобили',\n",
       "       'заняться образованием', 'сделка с подержанным автомобилем',\n",
       "       'получение образования', 'автомобиль', 'свадьба',\n",
       "       'получение дополнительного образования', 'покупка своего жилья',\n",
       "       'операции с недвижимостью', 'получение высшего образования',\n",
       "       'свой автомобиль', 'сделка с автомобилем',\n",
       "       'профильное образование', 'высшее образование',\n",
       "       'покупка жилья для сдачи', 'на покупку автомобиля', 'ремонт жилью',\n",
       "       'заняться высшим образованием'], dtype=object)"
      ]
     },
     "execution_count": 19,
     "metadata": {},
     "output_type": "execute_result"
    }
   ],
   "source": [
    "data['purpose'].unique()"
   ]
  },
  {
   "cell_type": "markdown",
   "id": "52b79d56",
   "metadata": {
    "deletable": false,
    "editable": false,
    "id": "52b79d56"
   },
   "source": [
    "**Задание 18. Создайте функцию, которая на основании данных из столбца `purpose` сформирует новый столбец `purpose_category`, в который войдут следующие категории:**\n",
    "\n",
    "- `'операции с автомобилем'`,\n",
    "- `'операции с недвижимостью'`,\n",
    "- `'проведение свадьбы'`,\n",
    "- `'получение образования'`.\n",
    "\n",
    "**Например, если в столбце `purpose` находится подстрока `'на покупку автомобиля'`, то в столбце `purpose_category` должна появиться строка `'операции с автомобилем'`.**\n",
    "\n",
    "**Используйте собственную функцию с именем `categorize_purpose()` и метод `apply()`. Изучите данные в столбце `purpose` и определите, какие подстроки помогут вам правильно определить категорию.**"
   ]
  },
  {
   "cell_type": "code",
   "execution_count": 20,
   "id": "be41da5d",
   "metadata": {
    "deletable": false,
    "id": "be41da5d"
   },
   "outputs": [],
   "source": [
    "def categorize_purpose(row):\n",
    "    try:\n",
    "        if 'автом' in row:\n",
    "            return 'операции с автомобилем'\n",
    "        elif 'жил' in row or 'недвиж' in row:\n",
    "            return 'операции с недвижимостью'\n",
    "        elif 'свад' in row:\n",
    "            return 'проведение свадьбы'\n",
    "        elif 'образов' in row:\n",
    "            return 'получение образования'\n",
    "    except:\n",
    "        return 'нет категории'"
   ]
  },
  {
   "cell_type": "code",
   "execution_count": 21,
   "id": "94c4a19a",
   "metadata": {
    "deletable": false,
    "id": "94c4a19a"
   },
   "outputs": [],
   "source": [
    "data['purpose_category'] = data['purpose'].apply(categorize_purpose)"
   ]
  },
  {
   "cell_type": "markdown",
   "id": "3d596c34",
   "metadata": {
    "deletable": false,
    "editable": false,
    "id": "3d596c34"
   },
   "source": [
    "### Шаг 3. Исследуйте данные и ответьте на вопросы"
   ]
  },
  {
   "cell_type": "markdown",
   "id": "648db036",
   "metadata": {
    "deletable": false,
    "editable": false,
    "id": "648db036"
   },
   "source": [
    "#### 3.1 Есть ли зависимость между количеством детей и возвратом кредита в срок?"
   ]
  },
  {
   "cell_type": "code",
   "execution_count": 22,
   "id": "7fcff25e",
   "metadata": {
    "deletable": false,
    "id": "7fcff25e",
    "scrolled": false
   },
   "outputs": [
    {
     "data": {
      "text/html": [
       "<div>\n",
       "<style scoped>\n",
       "    .dataframe tbody tr th:only-of-type {\n",
       "        vertical-align: middle;\n",
       "    }\n",
       "\n",
       "    .dataframe tbody tr th {\n",
       "        vertical-align: top;\n",
       "    }\n",
       "\n",
       "    .dataframe thead th {\n",
       "        text-align: right;\n",
       "    }\n",
       "</style>\n",
       "<table border=\"1\" class=\"dataframe\">\n",
       "  <thead>\n",
       "    <tr style=\"text-align: right;\">\n",
       "      <th></th>\n",
       "      <th>children</th>\n",
       "      <th>debt_sum</th>\n",
       "      <th>category_count</th>\n",
       "      <th>relatively_category</th>\n",
       "    </tr>\n",
       "  </thead>\n",
       "  <tbody>\n",
       "    <tr>\n",
       "      <th>0</th>\n",
       "      <td>0</td>\n",
       "      <td>1063</td>\n",
       "      <td>14091</td>\n",
       "      <td>7.543822</td>\n",
       "    </tr>\n",
       "    <tr>\n",
       "      <th>1</th>\n",
       "      <td>1</td>\n",
       "      <td>444</td>\n",
       "      <td>4808</td>\n",
       "      <td>9.234609</td>\n",
       "    </tr>\n",
       "    <tr>\n",
       "      <th>2</th>\n",
       "      <td>2</td>\n",
       "      <td>194</td>\n",
       "      <td>2052</td>\n",
       "      <td>9.454191</td>\n",
       "    </tr>\n",
       "    <tr>\n",
       "      <th>3</th>\n",
       "      <td>3</td>\n",
       "      <td>27</td>\n",
       "      <td>330</td>\n",
       "      <td>8.181818</td>\n",
       "    </tr>\n",
       "    <tr>\n",
       "      <th>4</th>\n",
       "      <td>4</td>\n",
       "      <td>4</td>\n",
       "      <td>41</td>\n",
       "      <td>9.756098</td>\n",
       "    </tr>\n",
       "  </tbody>\n",
       "</table>\n",
       "</div>"
      ],
      "text/plain": [
       "   children  debt_sum  category_count  relatively_category\n",
       "0         0      1063           14091             7.543822\n",
       "1         1       444            4808             9.234609\n",
       "2         2       194            2052             9.454191\n",
       "3         3        27             330             8.181818\n",
       "4         4         4              41             9.756098"
      ]
     },
     "execution_count": 22,
     "metadata": {},
     "output_type": "execute_result"
    }
   ],
   "source": [
    "#data.head(15)# Ваш код будет здесь. Вы можете создавать новые ячейки.\n",
    "debt_sum = data.groupby('children')['debt'].sum()\n",
    "category_count = data.groupby('children')['children'].count()\n",
    "relatively_category = debt_sum / category_count * 100\n",
    "df_children = [[0, 1063, 14091, 7.543822], [1, 444, 4808, 9.234609], [2, 194, 2052, 9.454191], [3, 27, 330, 8.181818], [4, 4, 41, 9.756098]]\n",
    "col_children = ['children', 'debt_sum', 'category_count', 'relatively_category']\n",
    "data_children = pd.DataFrame(data=df_children, columns=col_children)\n",
    "data_children"
   ]
  },
  {
   "cell_type": "code",
   "execution_count": 23,
   "id": "6f74bc82",
   "metadata": {},
   "outputs": [
    {
     "data": {
      "text/html": [
       "<div>\n",
       "<style scoped>\n",
       "    .dataframe tbody tr th:only-of-type {\n",
       "        vertical-align: middle;\n",
       "    }\n",
       "\n",
       "    .dataframe tbody tr th {\n",
       "        vertical-align: top;\n",
       "    }\n",
       "\n",
       "    .dataframe thead tr th {\n",
       "        text-align: left;\n",
       "    }\n",
       "\n",
       "    .dataframe thead tr:last-of-type th {\n",
       "        text-align: right;\n",
       "    }\n",
       "</style>\n",
       "<table border=\"1\" class=\"dataframe\">\n",
       "  <thead>\n",
       "    <tr>\n",
       "      <th></th>\n",
       "      <th>debt</th>\n",
       "      <th>children</th>\n",
       "      <th>relatively_category</th>\n",
       "    </tr>\n",
       "    <tr>\n",
       "      <th></th>\n",
       "      <th>sum</th>\n",
       "      <th>count</th>\n",
       "      <th></th>\n",
       "    </tr>\n",
       "    <tr>\n",
       "      <th>children</th>\n",
       "      <th></th>\n",
       "      <th></th>\n",
       "      <th></th>\n",
       "    </tr>\n",
       "  </thead>\n",
       "  <tbody>\n",
       "    <tr>\n",
       "      <th>0</th>\n",
       "      <td>1063</td>\n",
       "      <td>14091</td>\n",
       "      <td>7.543822</td>\n",
       "    </tr>\n",
       "    <tr>\n",
       "      <th>1</th>\n",
       "      <td>444</td>\n",
       "      <td>4808</td>\n",
       "      <td>9.234609</td>\n",
       "    </tr>\n",
       "    <tr>\n",
       "      <th>2</th>\n",
       "      <td>194</td>\n",
       "      <td>2052</td>\n",
       "      <td>9.454191</td>\n",
       "    </tr>\n",
       "    <tr>\n",
       "      <th>3</th>\n",
       "      <td>27</td>\n",
       "      <td>330</td>\n",
       "      <td>8.181818</td>\n",
       "    </tr>\n",
       "    <tr>\n",
       "      <th>4</th>\n",
       "      <td>4</td>\n",
       "      <td>41</td>\n",
       "      <td>9.756098</td>\n",
       "    </tr>\n",
       "    <tr>\n",
       "      <th>5</th>\n",
       "      <td>0</td>\n",
       "      <td>9</td>\n",
       "      <td>0.000000</td>\n",
       "    </tr>\n",
       "  </tbody>\n",
       "</table>\n",
       "</div>"
      ],
      "text/plain": [
       "          debt children relatively_category\n",
       "           sum    count                    \n",
       "children                                   \n",
       "0         1063    14091            7.543822\n",
       "1          444     4808            9.234609\n",
       "2          194     2052            9.454191\n",
       "3           27      330            8.181818\n",
       "4            4       41            9.756098\n",
       "5            0        9            0.000000"
      ]
     },
     "execution_count": 23,
     "metadata": {},
     "output_type": "execute_result"
    }
   ],
   "source": [
    "data_tab = data.groupby('children').agg({'debt': ['sum'], 'children': ['count']})\n",
    "data_tab['relatively_category'] = debt_sum / category_count * 100\n",
    "data_tab"
   ]
  },
  {
   "cell_type": "markdown",
   "id": "25c5b03d",
   "metadata": {
    "deletable": false,
    "id": "2eb9088e"
   },
   "source": [
    "**Вывод:** Количество детей не сильно влияет на возврат кредита в срок. Процент долга от обшего числа кредита показывает, что сильной зависимовти не наблюдается, хотя наименьший процент долга у категории с 0 детьми. Вероятно у лудей без детей есть больше возможности позволить себе кредит, не имея дополнительных трат связанных с детьми. Категория с 5 детьми не может рассматриваться в данном выводе, т.к. таких семей слишком мало, чтобы сравнивать с остальными."
   ]
  },
  {
   "cell_type": "markdown",
   "id": "74c9b3a7",
   "metadata": {
    "deletable": false,
    "editable": false,
    "id": "74c9b3a7"
   },
   "source": [
    "#### 3.2 Есть ли зависимость между семейным положением и возвратом кредита в срок?"
   ]
  },
  {
   "cell_type": "code",
   "execution_count": 24,
   "id": "8098ab3b",
   "metadata": {
    "deletable": false,
    "id": "8098ab3b",
    "scrolled": true
   },
   "outputs": [
    {
     "data": {
      "text/html": [
       "<div>\n",
       "<style scoped>\n",
       "    .dataframe tbody tr th:only-of-type {\n",
       "        vertical-align: middle;\n",
       "    }\n",
       "\n",
       "    .dataframe tbody tr th {\n",
       "        vertical-align: top;\n",
       "    }\n",
       "\n",
       "    .dataframe thead th {\n",
       "        text-align: right;\n",
       "    }\n",
       "</style>\n",
       "<table border=\"1\" class=\"dataframe\">\n",
       "  <thead>\n",
       "    <tr style=\"text-align: right;\">\n",
       "      <th></th>\n",
       "      <th>family_status</th>\n",
       "      <th>debt_sum</th>\n",
       "      <th>credit_count</th>\n",
       "      <th>relatively</th>\n",
       "    </tr>\n",
       "  </thead>\n",
       "  <tbody>\n",
       "    <tr>\n",
       "      <th>0</th>\n",
       "      <td>Не женат / не замужем</td>\n",
       "      <td>273</td>\n",
       "      <td>2796</td>\n",
       "      <td>9</td>\n",
       "    </tr>\n",
       "    <tr>\n",
       "      <th>3</th>\n",
       "      <td>гражданский брак</td>\n",
       "      <td>385</td>\n",
       "      <td>4134</td>\n",
       "      <td>9</td>\n",
       "    </tr>\n",
       "    <tr>\n",
       "      <th>1</th>\n",
       "      <td>в разводе</td>\n",
       "      <td>84</td>\n",
       "      <td>1189</td>\n",
       "      <td>7</td>\n",
       "    </tr>\n",
       "    <tr>\n",
       "      <th>4</th>\n",
       "      <td>женат / замужем</td>\n",
       "      <td>927</td>\n",
       "      <td>12261</td>\n",
       "      <td>7</td>\n",
       "    </tr>\n",
       "    <tr>\n",
       "      <th>2</th>\n",
       "      <td>вдовец / вдова</td>\n",
       "      <td>63</td>\n",
       "      <td>951</td>\n",
       "      <td>6</td>\n",
       "    </tr>\n",
       "  </tbody>\n",
       "</table>\n",
       "</div>"
      ],
      "text/plain": [
       "           family_status  debt_sum  credit_count  relatively\n",
       "0  Не женат / не замужем       273          2796           9\n",
       "3       гражданский брак       385          4134           9\n",
       "1              в разводе        84          1189           7\n",
       "4        женат / замужем       927         12261           7\n",
       "2         вдовец / вдова        63           951           6"
      ]
     },
     "execution_count": 24,
     "metadata": {},
     "output_type": "execute_result"
    }
   ],
   "source": [
    "debt_sum = data.groupby('family_status')['debt'].sum()# Ваш код будет здесь. Вы можете создавать новые ячейки.\n",
    "credit_count = data.groupby('family_status')['family_status'].count()\n",
    "relatively = (debt_sum / credit_count)*100\n",
    "df = [['Не женат / не замужем', 273, 2796, 9], ['в разводе', 84, 1189, 7], ['вдовец / вдова', 63, 951, 6], ['гражданский брак', 385, 4134, 9], ['женат / замужем', 927, 12261, 7]]\n",
    "columns = ['family_status', 'debt_sum', 'credit_count', 'relatively']\n",
    "info = pd.DataFrame(data=df, columns=columns)\n",
    "info.sort_values(by='relatively', ascending=False)"
   ]
  },
  {
   "cell_type": "code",
   "execution_count": 25,
   "id": "88177077",
   "metadata": {},
   "outputs": [
    {
     "data": {
      "text/html": [
       "<div>\n",
       "<style scoped>\n",
       "    .dataframe tbody tr th:only-of-type {\n",
       "        vertical-align: middle;\n",
       "    }\n",
       "\n",
       "    .dataframe tbody tr th {\n",
       "        vertical-align: top;\n",
       "    }\n",
       "\n",
       "    .dataframe thead tr th {\n",
       "        text-align: left;\n",
       "    }\n",
       "\n",
       "    .dataframe thead tr:last-of-type th {\n",
       "        text-align: right;\n",
       "    }\n",
       "</style>\n",
       "<table border=\"1\" class=\"dataframe\">\n",
       "  <thead>\n",
       "    <tr>\n",
       "      <th></th>\n",
       "      <th>debt</th>\n",
       "      <th>family_status</th>\n",
       "      <th>relatively</th>\n",
       "    </tr>\n",
       "    <tr>\n",
       "      <th></th>\n",
       "      <th>sum</th>\n",
       "      <th>count</th>\n",
       "      <th></th>\n",
       "    </tr>\n",
       "    <tr>\n",
       "      <th>family_status</th>\n",
       "      <th></th>\n",
       "      <th></th>\n",
       "      <th></th>\n",
       "    </tr>\n",
       "  </thead>\n",
       "  <tbody>\n",
       "    <tr>\n",
       "      <th>вдовец / вдова</th>\n",
       "      <td>63</td>\n",
       "      <td>951</td>\n",
       "      <td>6.624606</td>\n",
       "    </tr>\n",
       "    <tr>\n",
       "      <th>в разводе</th>\n",
       "      <td>84</td>\n",
       "      <td>1189</td>\n",
       "      <td>7.064760</td>\n",
       "    </tr>\n",
       "    <tr>\n",
       "      <th>женат / замужем</th>\n",
       "      <td>927</td>\n",
       "      <td>12261</td>\n",
       "      <td>7.560558</td>\n",
       "    </tr>\n",
       "    <tr>\n",
       "      <th>гражданский брак</th>\n",
       "      <td>385</td>\n",
       "      <td>4134</td>\n",
       "      <td>9.313014</td>\n",
       "    </tr>\n",
       "    <tr>\n",
       "      <th>Не женат / не замужем</th>\n",
       "      <td>273</td>\n",
       "      <td>2796</td>\n",
       "      <td>9.763948</td>\n",
       "    </tr>\n",
       "  </tbody>\n",
       "</table>\n",
       "</div>"
      ],
      "text/plain": [
       "                      debt family_status relatively\n",
       "                       sum         count           \n",
       "family_status                                      \n",
       "вдовец / вдова          63           951   6.624606\n",
       "в разводе               84          1189   7.064760\n",
       "женат / замужем        927         12261   7.560558\n",
       "гражданский брак       385          4134   9.313014\n",
       "Не женат / не замужем  273          2796   9.763948"
      ]
     },
     "execution_count": 25,
     "metadata": {},
     "output_type": "execute_result"
    }
   ],
   "source": [
    "data_tab2 = data.groupby('family_status').agg({'debt': ['sum'], 'family_status': ['count']})\n",
    "data_tab2['relatively'] = relatively\n",
    "data_tab2.sort_values('relatively')"
   ]
  },
  {
   "cell_type": "markdown",
   "id": "c389ca63",
   "metadata": {
    "deletable": false,
    "id": "c389ca63"
   },
   "source": [
    "**Вывод:** На супружеские пары приходится больше всего долга, но именно эта категория чаще всего берет кредиты. После того как посчитали относительную метрику стало ястно, что явной зависимости долга от семейного положения нет."
   ]
  },
  {
   "cell_type": "markdown",
   "id": "9529de68",
   "metadata": {
    "deletable": false,
    "editable": false,
    "id": "9529de68"
   },
   "source": [
    "#### 3.3 Есть ли зависимость между уровнем дохода и возвратом кредита в срок?"
   ]
  },
  {
   "cell_type": "code",
   "execution_count": 26,
   "id": "8787f44a",
   "metadata": {
    "deletable": false,
    "id": "8787f44a"
   },
   "outputs": [
    {
     "name": "stdout",
     "output_type": "stream",
     "text": [
      "total_income_category\n",
      "A       2\n",
      "E       2\n",
      "D      21\n",
      "B     354\n",
      "C    1353\n",
      "Name: debt, dtype: int64\n",
      "total_income_category\n",
      "E       22\n",
      "A       25\n",
      "D      349\n",
      "B     5014\n",
      "C    15921\n",
      "Name: total_income_category, dtype: int64\n",
      "total_income_category\n",
      "D    6.017192\n",
      "B    7.060231\n",
      "A    8.000000\n",
      "C    8.498210\n",
      "E    9.090909\n",
      "dtype: float64\n"
     ]
    },
    {
     "data": {
      "text/html": [
       "<div>\n",
       "<style scoped>\n",
       "    .dataframe tbody tr th:only-of-type {\n",
       "        vertical-align: middle;\n",
       "    }\n",
       "\n",
       "    .dataframe tbody tr th {\n",
       "        vertical-align: top;\n",
       "    }\n",
       "\n",
       "    .dataframe thead th {\n",
       "        text-align: right;\n",
       "    }\n",
       "</style>\n",
       "<table border=\"1\" class=\"dataframe\">\n",
       "  <thead>\n",
       "    <tr style=\"text-align: right;\">\n",
       "      <th></th>\n",
       "      <th>total_income_category</th>\n",
       "      <th>category_sum</th>\n",
       "      <th>category_count</th>\n",
       "      <th>category_relatively</th>\n",
       "    </tr>\n",
       "  </thead>\n",
       "  <tbody>\n",
       "    <tr>\n",
       "      <th>2</th>\n",
       "      <td>D</td>\n",
       "      <td>21</td>\n",
       "      <td>349</td>\n",
       "      <td>6.017192</td>\n",
       "    </tr>\n",
       "    <tr>\n",
       "      <th>0</th>\n",
       "      <td>B</td>\n",
       "      <td>354</td>\n",
       "      <td>5014</td>\n",
       "      <td>7.060231</td>\n",
       "    </tr>\n",
       "    <tr>\n",
       "      <th>1</th>\n",
       "      <td>C</td>\n",
       "      <td>1353</td>\n",
       "      <td>15921</td>\n",
       "      <td>8.498210</td>\n",
       "    </tr>\n",
       "  </tbody>\n",
       "</table>\n",
       "</div>"
      ],
      "text/plain": [
       "  total_income_category  category_sum  category_count  category_relatively\n",
       "2                     D            21             349             6.017192\n",
       "0                     B           354            5014             7.060231\n",
       "1                     C          1353           15921             8.498210"
      ]
     },
     "execution_count": 26,
     "metadata": {},
     "output_type": "execute_result"
    }
   ],
   "source": [
    "data.head()# Ваш код будет здесь. Вы можете создавать новые ячейки.\n",
    "category_sum = data.groupby('total_income_category')['debt'].sum()\n",
    "category_count = data.groupby('total_income_category')['total_income_category'].count()\n",
    "category_relatively = category_sum / category_count * 100\n",
    "print(category_sum.sort_values())\n",
    "print(category_count.sort_values())\n",
    "print(category_relatively.sort_values())\n",
    "data_total = [['B', 354, 5014, 7.060231], ['C', 1353, 15921, 8.498210], ['D', 21, 349, 6.017192]]\n",
    "columns = ['total_income_category', 'category_sum', 'category_count', 'category_relatively']\n",
    "info = pd.DataFrame(data=data_total, columns=columns)\n",
    "info.sort_values(by='category_relatively')"
   ]
  },
  {
   "cell_type": "markdown",
   "id": "6dd14b57",
   "metadata": {
    "deletable": false,
    "id": "6dd14b57"
   },
   "source": [
    "**Вывод:** Мы убрали из анализ группы А и Е т.к. их в сравнении слишком мало. Делаем вывод, что заемшики с дохом от 30000 до 50000 (группа D) наиболее ответственны в погошении кредита."
   ]
  },
  {
   "cell_type": "code",
   "execution_count": 27,
   "id": "ad7ee39c",
   "metadata": {},
   "outputs": [
    {
     "data": {
      "text/html": [
       "<div>\n",
       "<style scoped>\n",
       "    .dataframe tbody tr th:only-of-type {\n",
       "        vertical-align: middle;\n",
       "    }\n",
       "\n",
       "    .dataframe tbody tr th {\n",
       "        vertical-align: top;\n",
       "    }\n",
       "\n",
       "    .dataframe thead tr th {\n",
       "        text-align: left;\n",
       "    }\n",
       "\n",
       "    .dataframe thead tr:last-of-type th {\n",
       "        text-align: right;\n",
       "    }\n",
       "</style>\n",
       "<table border=\"1\" class=\"dataframe\">\n",
       "  <thead>\n",
       "    <tr>\n",
       "      <th></th>\n",
       "      <th>debt</th>\n",
       "      <th>total_income_category</th>\n",
       "      <th>category_relatively</th>\n",
       "    </tr>\n",
       "    <tr>\n",
       "      <th></th>\n",
       "      <th>sum</th>\n",
       "      <th>count</th>\n",
       "      <th></th>\n",
       "    </tr>\n",
       "    <tr>\n",
       "      <th>total_income_category</th>\n",
       "      <th></th>\n",
       "      <th></th>\n",
       "      <th></th>\n",
       "    </tr>\n",
       "  </thead>\n",
       "  <tbody>\n",
       "    <tr>\n",
       "      <th>D</th>\n",
       "      <td>21</td>\n",
       "      <td>349</td>\n",
       "      <td>6.017192</td>\n",
       "    </tr>\n",
       "    <tr>\n",
       "      <th>B</th>\n",
       "      <td>354</td>\n",
       "      <td>5014</td>\n",
       "      <td>7.060231</td>\n",
       "    </tr>\n",
       "    <tr>\n",
       "      <th>A</th>\n",
       "      <td>2</td>\n",
       "      <td>25</td>\n",
       "      <td>8.000000</td>\n",
       "    </tr>\n",
       "    <tr>\n",
       "      <th>C</th>\n",
       "      <td>1353</td>\n",
       "      <td>15921</td>\n",
       "      <td>8.498210</td>\n",
       "    </tr>\n",
       "    <tr>\n",
       "      <th>E</th>\n",
       "      <td>2</td>\n",
       "      <td>22</td>\n",
       "      <td>9.090909</td>\n",
       "    </tr>\n",
       "  </tbody>\n",
       "</table>\n",
       "</div>"
      ],
      "text/plain": [
       "                       debt total_income_category category_relatively\n",
       "                        sum                 count                    \n",
       "total_income_category                                                \n",
       "D                        21                   349            6.017192\n",
       "B                       354                  5014            7.060231\n",
       "A                         2                    25            8.000000\n",
       "C                      1353                 15921            8.498210\n",
       "E                         2                    22            9.090909"
      ]
     },
     "execution_count": 27,
     "metadata": {},
     "output_type": "execute_result"
    }
   ],
   "source": [
    "data_tab3 = data.groupby('total_income_category').agg({'debt': ['sum'], 'total_income_category': ['count']})\n",
    "data_tab3['category_relatively'] = category_relatively\n",
    "data_tab3.sort_values('category_relatively')"
   ]
  },
  {
   "cell_type": "markdown",
   "id": "65cd9d4d",
   "metadata": {},
   "source": [
    "Уберем из таблицы категории которые не влияют на общую картину. Это категории D, A, E и оставим только те которые имеют более конкурентные значения."
   ]
  },
  {
   "cell_type": "code",
   "execution_count": 28,
   "id": "aa258167",
   "metadata": {},
   "outputs": [
    {
     "data": {
      "text/html": [
       "<div>\n",
       "<style scoped>\n",
       "    .dataframe tbody tr th:only-of-type {\n",
       "        vertical-align: middle;\n",
       "    }\n",
       "\n",
       "    .dataframe tbody tr th {\n",
       "        vertical-align: top;\n",
       "    }\n",
       "\n",
       "    .dataframe thead tr th {\n",
       "        text-align: left;\n",
       "    }\n",
       "\n",
       "    .dataframe thead tr:last-of-type th {\n",
       "        text-align: right;\n",
       "    }\n",
       "</style>\n",
       "<table border=\"1\" class=\"dataframe\">\n",
       "  <thead>\n",
       "    <tr>\n",
       "      <th></th>\n",
       "      <th>debt</th>\n",
       "      <th>total_income_category</th>\n",
       "      <th>category_relatively</th>\n",
       "    </tr>\n",
       "    <tr>\n",
       "      <th></th>\n",
       "      <th>sum</th>\n",
       "      <th>count</th>\n",
       "      <th></th>\n",
       "    </tr>\n",
       "    <tr>\n",
       "      <th>total_income_category</th>\n",
       "      <th></th>\n",
       "      <th></th>\n",
       "      <th></th>\n",
       "    </tr>\n",
       "  </thead>\n",
       "  <tbody>\n",
       "    <tr>\n",
       "      <th>B</th>\n",
       "      <td>354</td>\n",
       "      <td>5014</td>\n",
       "      <td>7.060231</td>\n",
       "    </tr>\n",
       "    <tr>\n",
       "      <th>C</th>\n",
       "      <td>1353</td>\n",
       "      <td>15921</td>\n",
       "      <td>8.498210</td>\n",
       "    </tr>\n",
       "  </tbody>\n",
       "</table>\n",
       "</div>"
      ],
      "text/plain": [
       "                       debt total_income_category category_relatively\n",
       "                        sum                 count                    \n",
       "total_income_category                                                \n",
       "B                       354                  5014            7.060231\n",
       "C                      1353                 15921            8.498210"
      ]
     },
     "execution_count": 28,
     "metadata": {},
     "output_type": "execute_result"
    }
   ],
   "source": [
    "data_tab3.columns\n",
    "data_tab3 = data_tab3.loc[data_tab3[('total_income_category', 'count')] > 1000]\n",
    "data_tab3['category_relatively'] = category_relatively\n",
    "data_tab3"
   ]
  },
  {
   "cell_type": "markdown",
   "id": "1dcc9b12",
   "metadata": {
    "deletable": false,
    "editable": false,
    "id": "1dcc9b12"
   },
   "source": [
    "#### 3.4 Как разные цели кредита влияют на его возврат в срок?"
   ]
  },
  {
   "cell_type": "code",
   "execution_count": 29,
   "id": "c602bc8b",
   "metadata": {
    "deletable": false,
    "id": "c602bc8b"
   },
   "outputs": [
    {
     "data": {
      "text/html": [
       "<div>\n",
       "<style scoped>\n",
       "    .dataframe tbody tr th:only-of-type {\n",
       "        vertical-align: middle;\n",
       "    }\n",
       "\n",
       "    .dataframe tbody tr th {\n",
       "        vertical-align: top;\n",
       "    }\n",
       "\n",
       "    .dataframe thead th {\n",
       "        text-align: right;\n",
       "    }\n",
       "</style>\n",
       "<table border=\"1\" class=\"dataframe\">\n",
       "  <thead>\n",
       "    <tr style=\"text-align: right;\">\n",
       "      <th></th>\n",
       "      <th>purpose_category</th>\n",
       "      <th>purpose_debt</th>\n",
       "      <th>purpose_count</th>\n",
       "      <th>purpose_relatively</th>\n",
       "    </tr>\n",
       "  </thead>\n",
       "  <tbody>\n",
       "    <tr>\n",
       "      <th>1</th>\n",
       "      <td>операции с недвижимостью</td>\n",
       "      <td>780</td>\n",
       "      <td>10751</td>\n",
       "      <td>7.255139</td>\n",
       "    </tr>\n",
       "    <tr>\n",
       "      <th>3</th>\n",
       "      <td>проведение свадьбы</td>\n",
       "      <td>183</td>\n",
       "      <td>2313</td>\n",
       "      <td>7.911803</td>\n",
       "    </tr>\n",
       "    <tr>\n",
       "      <th>2</th>\n",
       "      <td>получение образования</td>\n",
       "      <td>369</td>\n",
       "      <td>3988</td>\n",
       "      <td>9.252758</td>\n",
       "    </tr>\n",
       "    <tr>\n",
       "      <th>0</th>\n",
       "      <td>операции с автомобилем</td>\n",
       "      <td>400</td>\n",
       "      <td>4279</td>\n",
       "      <td>9.347978</td>\n",
       "    </tr>\n",
       "  </tbody>\n",
       "</table>\n",
       "</div>"
      ],
      "text/plain": [
       "           purpose_category  purpose_debt  purpose_count  purpose_relatively\n",
       "1  операции с недвижимостью           780          10751            7.255139\n",
       "3        проведение свадьбы           183           2313            7.911803\n",
       "2     получение образования           369           3988            9.252758\n",
       "0    операции с автомобилем           400           4279            9.347978"
      ]
     },
     "execution_count": 29,
     "metadata": {},
     "output_type": "execute_result"
    }
   ],
   "source": [
    "purpose_debt = data.groupby('purpose_category')['debt'].sum()\n",
    "purpose_count = data.groupby('purpose_category')['purpose_category'].count()\n",
    "purpose_relatively = purpose_debt / purpose_count * 100# Ваш код будет здесь. Вы можете создавать новые ячейки.\n",
    "data_total = [['операции с автомобилем', 400, 4279, 9.347978], ['операции с недвижимостью', 780, 10751, 7.255139], ['получение образования', 369, 3988, 9.252758], ['проведение свадьбы', 183, 2313, 7.911803]]\n",
    "columns = ['purpose_category', 'purpose_debt', 'purpose_count', 'purpose_relatively']\n",
    "info = pd.DataFrame(data=data_total, columns=columns)\n",
    "info.sort_values(by='purpose_relatively')"
   ]
  },
  {
   "cell_type": "code",
   "execution_count": 30,
   "id": "9128c671",
   "metadata": {},
   "outputs": [
    {
     "data": {
      "text/html": [
       "<div>\n",
       "<style scoped>\n",
       "    .dataframe tbody tr th:only-of-type {\n",
       "        vertical-align: middle;\n",
       "    }\n",
       "\n",
       "    .dataframe tbody tr th {\n",
       "        vertical-align: top;\n",
       "    }\n",
       "\n",
       "    .dataframe thead tr th {\n",
       "        text-align: left;\n",
       "    }\n",
       "\n",
       "    .dataframe thead tr:last-of-type th {\n",
       "        text-align: right;\n",
       "    }\n",
       "</style>\n",
       "<table border=\"1\" class=\"dataframe\">\n",
       "  <thead>\n",
       "    <tr>\n",
       "      <th></th>\n",
       "      <th>debt</th>\n",
       "      <th>purpose_category</th>\n",
       "      <th>purpose_relatively</th>\n",
       "    </tr>\n",
       "    <tr>\n",
       "      <th></th>\n",
       "      <th>sum</th>\n",
       "      <th>count</th>\n",
       "      <th></th>\n",
       "    </tr>\n",
       "    <tr>\n",
       "      <th>purpose_category</th>\n",
       "      <th></th>\n",
       "      <th></th>\n",
       "      <th></th>\n",
       "    </tr>\n",
       "  </thead>\n",
       "  <tbody>\n",
       "    <tr>\n",
       "      <th>операции с недвижимостью</th>\n",
       "      <td>780</td>\n",
       "      <td>10751</td>\n",
       "      <td>7.255139</td>\n",
       "    </tr>\n",
       "    <tr>\n",
       "      <th>проведение свадьбы</th>\n",
       "      <td>183</td>\n",
       "      <td>2313</td>\n",
       "      <td>7.911803</td>\n",
       "    </tr>\n",
       "    <tr>\n",
       "      <th>получение образования</th>\n",
       "      <td>369</td>\n",
       "      <td>3988</td>\n",
       "      <td>9.252758</td>\n",
       "    </tr>\n",
       "    <tr>\n",
       "      <th>операции с автомобилем</th>\n",
       "      <td>400</td>\n",
       "      <td>4279</td>\n",
       "      <td>9.347978</td>\n",
       "    </tr>\n",
       "  </tbody>\n",
       "</table>\n",
       "</div>"
      ],
      "text/plain": [
       "                         debt purpose_category purpose_relatively\n",
       "                          sum            count                   \n",
       "purpose_category                                                 \n",
       "операции с недвижимостью  780            10751           7.255139\n",
       "проведение свадьбы        183             2313           7.911803\n",
       "получение образования     369             3988           9.252758\n",
       "операции с автомобилем    400             4279           9.347978"
      ]
     },
     "execution_count": 30,
     "metadata": {},
     "output_type": "execute_result"
    }
   ],
   "source": [
    "data_tab4 = data.groupby('purpose_category').agg({'debt': ['sum'], 'purpose_category': ['count']})\n",
    "data_tab4['purpose_relatively'] = purpose_relatively\n",
    "data_tab4.sort_values('purpose_relatively')"
   ]
  },
  {
   "cell_type": "markdown",
   "id": "cf05ed63",
   "metadata": {
    "deletable": false,
    "id": "cf05ed63"
   },
   "source": [
    "**Вывод:** Заемщики из категорий \"операции с недвижимостью\" и \"проведение свадьбы\" имеют наименьший процент невыплат по кредиту. Можно сделать вывод, что люди готовящиеся к свадьбе и нацеленные на покупку жилья более исполнительны."
   ]
  },
  {
   "cell_type": "markdown",
   "id": "46c1f10b",
   "metadata": {
    "deletable": false,
    "editable": false,
    "id": "46c1f10b"
   },
   "source": [
    "#### 3.5 Приведите возможные причины появления пропусков в исходных данных."
   ]
  },
  {
   "cell_type": "markdown",
   "id": "3697d2a9",
   "metadata": {
    "deletable": false,
    "id": "3697d2a9"
   },
   "source": [
    "*Ответ:* Пропуски в данных могут возникнуть по нескольким причинам. Они могут исчезнкть при выводе или копировании данных, т.е. по техническим причинам. В других случаях заемшик не желает указывать свои личные данные."
   ]
  },
  {
   "cell_type": "markdown",
   "id": "3137d257",
   "metadata": {
    "deletable": false,
    "editable": false,
    "id": "3137d257"
   },
   "source": [
    "#### 3.6 Объясните, почему заполнить пропуски медианным значением — лучшее решение для количественных переменных."
   ]
  },
  {
   "cell_type": "markdown",
   "id": "cf40012a",
   "metadata": {
    "deletable": false,
    "id": "cf40012a"
   },
   "source": [
    "*Ответ:* Количественные переменные могут сильно отличаться друг от друга. Так, например, доходы разных категорий граждан могут иметь далекие друг от друга значения и если посчитать среднее значение можно сильно исказить истинные данные. Медианное значение наиболее подходит в таких случаях, т.к. имеет лучшее представление об истинности значений."
   ]
  },
  {
   "cell_type": "markdown",
   "id": "57bc304e",
   "metadata": {
    "deletable": false,
    "editable": false,
    "id": "57bc304e"
   },
   "source": [
    "### Шаг 4: общий вывод."
   ]
  },
  {
   "cell_type": "markdown",
   "id": "1ab75d1c",
   "metadata": {
    "deletable": false,
    "id": "1ab75d1c"
   },
   "source": [
    "Супружеские пары, которые только готовятся к покупке жилья (и) или планирующие детей являются перспективнее т.к. они более ответственны в выплате долга по кредиту. Также на погашение кредита влияет заработок граждан и заемщики с доходами от 30000 до 50000 реже задерживают выплаты. Эта  же категория граждан является самой крупной т.к. такие зарплаты наиболее распространенные по стране. "
   ]
  },
  {
   "cell_type": "markdown",
   "id": "3f00b45d",
   "metadata": {},
   "source": [
    "В процессе работы над проектом проводились исследования и проверялись гипотизы такие как:\n",
    "    \n",
    "- Есть ли зависимость между количеством детей и возвратом кредита в срок?\n",
    "    \n",
    "Заемщики без детей реже остаются должниками. Заемщики из категории с 1 ребенком исполнительней чем с 2 детьми, преимущество в 0,22 процента. Но в данном иследовании пришлось откинуть категории с 3, 4 и 5 детьми, так как их слишком мало по сравнению с остальными категориями заемщиков.\n",
    "    \n",
    "- Есть ли зависимость между семейным положением и возвратом кредита в срок?\n",
    "    \n",
    "Самая многочисленная категория это \"женат / замужем\" которых в данном иследовании 12261. А самая малочисленная \"вдовец / вдова\" 951. Но если сравнить процент долга от заема по которому становится ясно, что люди, которые еще не были в официальном браке, имеют мало опыта в данной сфере и не совсем еще осознают ответственность.\n",
    "    \n",
    "- Есть ли зависимость между уровнем дохода и возвратом кредита в срок?\n",
    "    \n",
    "В этом анализе снова пришлось избавиться от самых малочисленных категорий. Тогда стало ясно, что чем выше доход тем легче справиться с погашением кредита.\n",
    "    \n",
    "- Как разные цели кредита влияют на его возврат в срок?\n",
    "    \n",
    "Люди готовящиеся к свадьбе и нацеленные на покупку жилья более исполнительны. Заемщики из категорий \"операции с недвижимостью\" и \"проведение свадьбы\" имеют наименьший процент невыплат по кредиту. Разница в проценте долга между данными категориями и остальными составляет примерно 1.75 процентов.\n",
    "    \n",
    "В любом исследовании сначала необходимо проверяять данные т.к. всегда могут встретиться ошибки или пропуски. А всретив их необходимо разрешить, чему я и научилась в данном проекте.</div>"
   ]
  }
 ],
 "metadata": {
  "ExecuteTimeLog": [
   {
    "duration": 50,
    "start_time": "2023-06-20T14:08:10.131Z"
   },
   {
    "duration": 476,
    "start_time": "2023-06-20T14:08:19.064Z"
   },
   {
    "duration": 22,
    "start_time": "2023-06-20T14:08:19.542Z"
   },
   {
    "duration": 15,
    "start_time": "2023-06-20T14:08:19.565Z"
   },
   {
    "duration": 9,
    "start_time": "2023-06-20T14:08:19.582Z"
   },
   {
    "duration": 33,
    "start_time": "2023-06-20T14:08:19.592Z"
   },
   {
    "duration": 3,
    "start_time": "2023-06-20T14:08:19.627Z"
   },
   {
    "duration": 13,
    "start_time": "2023-06-20T14:08:19.632Z"
   },
   {
    "duration": 4,
    "start_time": "2023-06-20T14:08:19.646Z"
   },
   {
    "duration": 26,
    "start_time": "2023-06-20T14:08:19.652Z"
   },
   {
    "duration": 5,
    "start_time": "2023-06-20T14:08:19.680Z"
   },
   {
    "duration": 41,
    "start_time": "2023-06-20T14:08:19.687Z"
   },
   {
    "duration": 10,
    "start_time": "2023-06-20T14:08:19.729Z"
   },
   {
    "duration": 14,
    "start_time": "2023-06-20T14:08:19.740Z"
   },
   {
    "duration": 28,
    "start_time": "2023-06-20T14:08:19.756Z"
   },
   {
    "duration": 53,
    "start_time": "2023-06-20T14:08:19.785Z"
   },
   {
    "duration": 21,
    "start_time": "2023-06-20T14:08:19.840Z"
   },
   {
    "duration": 11,
    "start_time": "2023-06-20T14:08:19.863Z"
   },
   {
    "duration": 34,
    "start_time": "2023-06-20T14:08:19.876Z"
   },
   {
    "duration": 13,
    "start_time": "2023-06-20T14:08:19.912Z"
   },
   {
    "duration": 11,
    "start_time": "2023-06-20T14:08:19.927Z"
   },
   {
    "duration": 28,
    "start_time": "2023-06-20T14:08:19.940Z"
   },
   {
    "duration": 34,
    "start_time": "2023-06-20T14:08:19.970Z"
   },
   {
    "duration": 30,
    "start_time": "2023-06-20T14:08:20.006Z"
   },
   {
    "duration": 27,
    "start_time": "2023-06-20T14:08:20.038Z"
   },
   {
    "duration": 31,
    "start_time": "2023-06-20T14:08:20.067Z"
   },
   {
    "duration": 4,
    "start_time": "2023-06-20T14:17:07.944Z"
   },
   {
    "duration": 487,
    "start_time": "2023-06-20T14:18:07.151Z"
   },
   {
    "duration": 21,
    "start_time": "2023-06-20T14:18:07.640Z"
   },
   {
    "duration": 14,
    "start_time": "2023-06-20T14:18:07.662Z"
   },
   {
    "duration": 13,
    "start_time": "2023-06-20T14:18:07.678Z"
   },
   {
    "duration": 42,
    "start_time": "2023-06-20T14:18:07.693Z"
   },
   {
    "duration": 3,
    "start_time": "2023-06-20T14:18:07.737Z"
   },
   {
    "duration": 13,
    "start_time": "2023-06-20T14:18:07.741Z"
   },
   {
    "duration": 5,
    "start_time": "2023-06-20T14:18:07.756Z"
   },
   {
    "duration": 20,
    "start_time": "2023-06-20T14:18:07.763Z"
   },
   {
    "duration": 9,
    "start_time": "2023-06-20T14:18:07.785Z"
   },
   {
    "duration": 46,
    "start_time": "2023-06-20T14:18:07.795Z"
   },
   {
    "duration": 11,
    "start_time": "2023-06-20T14:18:07.843Z"
   },
   {
    "duration": 10,
    "start_time": "2023-06-20T14:18:07.856Z"
   },
   {
    "duration": 36,
    "start_time": "2023-06-20T14:18:07.869Z"
   },
   {
    "duration": 21,
    "start_time": "2023-06-20T14:18:07.907Z"
   },
   {
    "duration": 28,
    "start_time": "2023-06-20T14:18:07.930Z"
   },
   {
    "duration": 42,
    "start_time": "2023-06-20T14:18:07.959Z"
   },
   {
    "duration": 25,
    "start_time": "2023-06-20T14:18:08.003Z"
   },
   {
    "duration": 15,
    "start_time": "2023-06-20T14:18:08.030Z"
   },
   {
    "duration": 23,
    "start_time": "2023-06-20T14:18:08.047Z"
   },
   {
    "duration": 17,
    "start_time": "2023-06-20T14:18:08.072Z"
   },
   {
    "duration": 10,
    "start_time": "2023-06-20T14:18:08.090Z"
   },
   {
    "duration": 35,
    "start_time": "2023-06-20T14:18:08.101Z"
   },
   {
    "duration": 22,
    "start_time": "2023-06-20T14:18:08.137Z"
   },
   {
    "duration": 20,
    "start_time": "2023-06-20T14:18:08.161Z"
   },
   {
    "duration": 3,
    "start_time": "2023-06-20T14:18:33.066Z"
   },
   {
    "duration": 5,
    "start_time": "2023-06-20T14:18:48.034Z"
   },
   {
    "duration": 5,
    "start_time": "2023-06-20T14:22:38.452Z"
   },
   {
    "duration": 4,
    "start_time": "2023-06-20T14:22:43.419Z"
   },
   {
    "duration": 7,
    "start_time": "2023-06-20T14:22:52.023Z"
   },
   {
    "duration": 8,
    "start_time": "2023-06-20T14:34:27.779Z"
   },
   {
    "duration": 9,
    "start_time": "2023-06-20T14:36:56.357Z"
   },
   {
    "duration": 67,
    "start_time": "2023-06-20T14:42:54.423Z"
   },
   {
    "duration": 23,
    "start_time": "2023-06-20T14:43:05.528Z"
   },
   {
    "duration": 11,
    "start_time": "2023-06-20T14:46:29.743Z"
   },
   {
    "duration": 10,
    "start_time": "2023-06-20T14:48:02.483Z"
   },
   {
    "duration": 10,
    "start_time": "2023-06-20T14:48:07.161Z"
   },
   {
    "duration": 10,
    "start_time": "2023-06-20T14:54:28.528Z"
   },
   {
    "duration": 18,
    "start_time": "2023-06-20T14:54:50.369Z"
   },
   {
    "duration": 13,
    "start_time": "2023-06-20T14:55:33.256Z"
   },
   {
    "duration": 14,
    "start_time": "2023-06-20T14:57:00.471Z"
   },
   {
    "duration": 10,
    "start_time": "2023-06-20T15:06:44.413Z"
   },
   {
    "duration": 14,
    "start_time": "2023-06-20T15:08:54.494Z"
   },
   {
    "duration": 12,
    "start_time": "2023-06-20T15:09:32.104Z"
   },
   {
    "duration": 18,
    "start_time": "2023-06-20T15:29:09.295Z"
   },
   {
    "duration": 18,
    "start_time": "2023-06-20T15:29:55.928Z"
   },
   {
    "duration": 20,
    "start_time": "2023-06-20T15:32:10.614Z"
   },
   {
    "duration": 18,
    "start_time": "2023-06-20T15:34:41.089Z"
   },
   {
    "duration": 18,
    "start_time": "2023-06-20T15:45:55.341Z"
   },
   {
    "duration": 16,
    "start_time": "2023-06-20T15:47:15.828Z"
   },
   {
    "duration": 8,
    "start_time": "2023-06-21T06:15:48.182Z"
   },
   {
    "duration": 7,
    "start_time": "2023-06-21T06:16:16.196Z"
   },
   {
    "duration": 13,
    "start_time": "2023-06-21T06:25:09.554Z"
   },
   {
    "duration": 15,
    "start_time": "2023-06-21T06:31:40.655Z"
   },
   {
    "duration": 82,
    "start_time": "2023-06-21T06:44:59.914Z"
   },
   {
    "duration": 149,
    "start_time": "2023-06-21T06:45:50.773Z"
   },
   {
    "duration": 10,
    "start_time": "2023-06-21T06:47:22.343Z"
   },
   {
    "duration": 9,
    "start_time": "2023-06-21T06:47:44.059Z"
   },
   {
    "duration": 15,
    "start_time": "2023-06-21T06:47:59.534Z"
   },
   {
    "duration": 18,
    "start_time": "2023-06-21T06:54:32.897Z"
   },
   {
    "duration": 574,
    "start_time": "2023-06-21T09:25:28.999Z"
   },
   {
    "duration": 42,
    "start_time": "2023-06-21T09:25:29.576Z"
   },
   {
    "duration": 44,
    "start_time": "2023-06-21T09:25:29.620Z"
   },
   {
    "duration": 64,
    "start_time": "2023-06-21T09:25:29.666Z"
   },
   {
    "duration": 134,
    "start_time": "2023-06-21T09:25:29.734Z"
   },
   {
    "duration": 137,
    "start_time": "2023-06-21T09:25:29.871Z"
   },
   {
    "duration": 44,
    "start_time": "2023-06-21T09:25:30.010Z"
   },
   {
    "duration": 92,
    "start_time": "2023-06-21T09:25:30.057Z"
   },
   {
    "duration": 86,
    "start_time": "2023-06-21T09:25:30.151Z"
   },
   {
    "duration": 41,
    "start_time": "2023-06-21T09:25:30.239Z"
   },
   {
    "duration": 268,
    "start_time": "2023-06-21T09:25:30.282Z"
   },
   {
    "duration": 140,
    "start_time": "2023-06-21T09:25:30.552Z"
   },
   {
    "duration": 55,
    "start_time": "2023-06-21T09:25:30.702Z"
   },
   {
    "duration": 82,
    "start_time": "2023-06-21T09:25:30.760Z"
   },
   {
    "duration": 81,
    "start_time": "2023-06-21T09:25:30.843Z"
   },
   {
    "duration": 44,
    "start_time": "2023-06-21T09:25:30.926Z"
   },
   {
    "duration": 63,
    "start_time": "2023-06-21T09:25:30.973Z"
   },
   {
    "duration": 78,
    "start_time": "2023-06-21T09:25:31.038Z"
   },
   {
    "duration": 107,
    "start_time": "2023-06-21T09:25:31.119Z"
   },
   {
    "duration": 121,
    "start_time": "2023-06-21T09:25:31.228Z"
   },
   {
    "duration": 139,
    "start_time": "2023-06-21T09:25:31.350Z"
   },
   {
    "duration": 430,
    "start_time": "2023-06-21T09:25:31.492Z"
   },
   {
    "duration": 148,
    "start_time": "2023-06-21T09:25:31.924Z"
   },
   {
    "duration": 128,
    "start_time": "2023-06-21T09:25:32.074Z"
   },
   {
    "duration": 114,
    "start_time": "2023-06-21T09:25:32.204Z"
   },
   {
    "duration": 20,
    "start_time": "2023-06-21T09:26:00.303Z"
   },
   {
    "duration": 26,
    "start_time": "2023-06-21T09:26:55.811Z"
   },
   {
    "duration": 11,
    "start_time": "2023-06-21T09:29:24.703Z"
   },
   {
    "duration": 8,
    "start_time": "2023-06-21T09:29:27.617Z"
   },
   {
    "duration": 12,
    "start_time": "2023-06-21T09:29:38.004Z"
   },
   {
    "duration": 16,
    "start_time": "2023-06-21T09:30:02.802Z"
   },
   {
    "duration": 32,
    "start_time": "2023-06-21T09:33:16.962Z"
   },
   {
    "duration": 21,
    "start_time": "2023-06-21T09:33:46.049Z"
   },
   {
    "duration": 40,
    "start_time": "2023-06-21T09:35:38.568Z"
   },
   {
    "duration": 26,
    "start_time": "2023-06-21T09:38:50.665Z"
   },
   {
    "duration": 16,
    "start_time": "2023-06-21T09:49:05.946Z"
   },
   {
    "duration": 16,
    "start_time": "2023-06-21T09:50:05.149Z"
   },
   {
    "duration": 24,
    "start_time": "2023-06-21T09:51:02.604Z"
   },
   {
    "duration": 119,
    "start_time": "2023-06-21T09:53:01.591Z"
   },
   {
    "duration": 25,
    "start_time": "2023-06-21T09:53:55.439Z"
   },
   {
    "duration": 32,
    "start_time": "2023-06-21T09:58:24.133Z"
   },
   {
    "duration": 18,
    "start_time": "2023-06-21T10:00:37.644Z"
   },
   {
    "duration": 22,
    "start_time": "2023-06-21T10:00:49.829Z"
   },
   {
    "duration": 32,
    "start_time": "2023-06-21T10:01:09.637Z"
   },
   {
    "duration": 24,
    "start_time": "2023-06-21T10:01:44.324Z"
   },
   {
    "duration": 23,
    "start_time": "2023-06-21T10:02:35.813Z"
   },
   {
    "duration": 16,
    "start_time": "2023-06-21T14:33:40.137Z"
   },
   {
    "duration": 41,
    "start_time": "2023-06-21T14:34:17.613Z"
   },
   {
    "duration": 26,
    "start_time": "2023-06-21T14:34:30.007Z"
   },
   {
    "duration": 21,
    "start_time": "2023-06-21T14:35:17.239Z"
   },
   {
    "duration": 38,
    "start_time": "2023-06-21T14:41:15.105Z"
   },
   {
    "duration": 31,
    "start_time": "2023-06-22T07:17:09.605Z"
   },
   {
    "duration": 907,
    "start_time": "2023-06-22T09:32:34.719Z"
   },
   {
    "duration": 31,
    "start_time": "2023-06-22T09:32:35.629Z"
   },
   {
    "duration": 85,
    "start_time": "2023-06-22T09:32:35.662Z"
   },
   {
    "duration": 65,
    "start_time": "2023-06-22T09:32:35.749Z"
   },
   {
    "duration": 49,
    "start_time": "2023-06-22T09:32:35.816Z"
   },
   {
    "duration": 24,
    "start_time": "2023-06-22T09:32:35.866Z"
   },
   {
    "duration": 47,
    "start_time": "2023-06-22T09:32:35.895Z"
   },
   {
    "duration": 26,
    "start_time": "2023-06-22T09:32:35.944Z"
   },
   {
    "duration": 57,
    "start_time": "2023-06-22T09:32:35.972Z"
   },
   {
    "duration": 25,
    "start_time": "2023-06-22T09:32:36.032Z"
   },
   {
    "duration": 70,
    "start_time": "2023-06-22T09:32:36.059Z"
   },
   {
    "duration": 31,
    "start_time": "2023-06-22T09:32:36.131Z"
   },
   {
    "duration": 56,
    "start_time": "2023-06-22T09:32:36.164Z"
   },
   {
    "duration": 36,
    "start_time": "2023-06-22T09:32:36.222Z"
   },
   {
    "duration": 98,
    "start_time": "2023-06-22T09:32:36.261Z"
   },
   {
    "duration": 34,
    "start_time": "2023-06-22T09:32:36.361Z"
   },
   {
    "duration": 24,
    "start_time": "2023-06-22T09:32:36.397Z"
   },
   {
    "duration": 49,
    "start_time": "2023-06-22T09:32:36.423Z"
   },
   {
    "duration": 66,
    "start_time": "2023-06-22T09:32:36.474Z"
   },
   {
    "duration": 8,
    "start_time": "2023-06-22T09:32:36.542Z"
   },
   {
    "duration": 44,
    "start_time": "2023-06-22T09:32:36.552Z"
   },
   {
    "duration": 68,
    "start_time": "2023-06-22T09:32:36.599Z"
   },
   {
    "duration": 80,
    "start_time": "2023-06-22T09:32:36.668Z"
   },
   {
    "duration": 22,
    "start_time": "2023-06-22T09:32:36.750Z"
   },
   {
    "duration": 34,
    "start_time": "2023-06-22T09:32:36.774Z"
   },
   {
    "duration": 222,
    "start_time": "2023-06-22T09:38:31.036Z"
   },
   {
    "duration": 49,
    "start_time": "2023-06-27T09:04:05.598Z"
   },
   {
    "duration": 516,
    "start_time": "2023-06-27T09:04:10.520Z"
   },
   {
    "duration": 22,
    "start_time": "2023-06-27T09:04:11.038Z"
   },
   {
    "duration": 14,
    "start_time": "2023-06-27T09:04:11.062Z"
   },
   {
    "duration": 25,
    "start_time": "2023-06-27T09:04:11.078Z"
   },
   {
    "duration": 48,
    "start_time": "2023-06-27T09:04:11.105Z"
   },
   {
    "duration": 3,
    "start_time": "2023-06-27T09:04:11.155Z"
   },
   {
    "duration": 44,
    "start_time": "2023-06-27T09:04:11.159Z"
   },
   {
    "duration": 18,
    "start_time": "2023-06-27T09:04:11.205Z"
   },
   {
    "duration": 40,
    "start_time": "2023-06-27T09:04:11.225Z"
   },
   {
    "duration": 15,
    "start_time": "2023-06-27T09:04:11.268Z"
   },
   {
    "duration": 39,
    "start_time": "2023-06-27T09:04:11.284Z"
   },
   {
    "duration": 8,
    "start_time": "2023-06-27T09:04:11.325Z"
   },
   {
    "duration": 4,
    "start_time": "2023-06-27T09:04:11.334Z"
   },
   {
    "duration": 13,
    "start_time": "2023-06-27T09:04:11.340Z"
   },
   {
    "duration": 21,
    "start_time": "2023-06-27T09:04:11.354Z"
   },
   {
    "duration": 17,
    "start_time": "2023-06-27T09:04:11.376Z"
   },
   {
    "duration": 3,
    "start_time": "2023-06-27T09:04:11.395Z"
   },
   {
    "duration": 14,
    "start_time": "2023-06-27T09:04:11.399Z"
   },
   {
    "duration": 6,
    "start_time": "2023-06-27T09:04:11.415Z"
   },
   {
    "duration": 7,
    "start_time": "2023-06-27T09:04:11.422Z"
   },
   {
    "duration": 29,
    "start_time": "2023-06-27T09:04:11.431Z"
   },
   {
    "duration": 15,
    "start_time": "2023-06-27T09:04:11.462Z"
   },
   {
    "duration": 18,
    "start_time": "2023-06-27T09:04:11.479Z"
   },
   {
    "duration": 20,
    "start_time": "2023-06-27T09:04:11.499Z"
   },
   {
    "duration": 63,
    "start_time": "2023-06-27T09:04:11.520Z"
   },
   {
    "duration": 9,
    "start_time": "2023-06-27T09:04:25.102Z"
   },
   {
    "duration": 20,
    "start_time": "2023-06-27T09:46:48.127Z"
   },
   {
    "duration": 77,
    "start_time": "2023-06-27T09:50:09.799Z"
   },
   {
    "duration": 488,
    "start_time": "2023-06-27T09:50:19.791Z"
   },
   {
    "duration": 23,
    "start_time": "2023-06-27T09:50:20.282Z"
   },
   {
    "duration": 17,
    "start_time": "2023-06-27T09:50:20.307Z"
   },
   {
    "duration": 31,
    "start_time": "2023-06-27T09:50:20.326Z"
   },
   {
    "duration": 33,
    "start_time": "2023-06-27T09:50:20.360Z"
   },
   {
    "duration": 3,
    "start_time": "2023-06-27T09:50:20.395Z"
   },
   {
    "duration": 14,
    "start_time": "2023-06-27T09:50:20.400Z"
   },
   {
    "duration": 5,
    "start_time": "2023-06-27T09:50:20.415Z"
   },
   {
    "duration": 34,
    "start_time": "2023-06-27T09:50:20.422Z"
   },
   {
    "duration": 6,
    "start_time": "2023-06-27T09:50:20.459Z"
   },
   {
    "duration": 53,
    "start_time": "2023-06-27T09:50:20.467Z"
   },
   {
    "duration": 12,
    "start_time": "2023-06-27T09:50:20.522Z"
   },
   {
    "duration": 6,
    "start_time": "2023-06-27T09:50:20.536Z"
   },
   {
    "duration": 12,
    "start_time": "2023-06-27T09:50:20.556Z"
   },
   {
    "duration": 27,
    "start_time": "2023-06-27T09:50:20.570Z"
   },
   {
    "duration": 20,
    "start_time": "2023-06-27T09:50:20.599Z"
   },
   {
    "duration": 3,
    "start_time": "2023-06-27T09:50:20.621Z"
   },
   {
    "duration": 35,
    "start_time": "2023-06-27T09:50:20.627Z"
   },
   {
    "duration": 7,
    "start_time": "2023-06-27T09:50:20.664Z"
   },
   {
    "duration": 26,
    "start_time": "2023-06-27T09:50:20.673Z"
   },
   {
    "duration": 35,
    "start_time": "2023-06-27T09:50:20.701Z"
   },
   {
    "duration": 21,
    "start_time": "2023-06-27T09:50:20.738Z"
   },
   {
    "duration": 78,
    "start_time": "2023-06-27T09:50:20.761Z"
   },
   {
    "duration": 0,
    "start_time": "2023-06-27T09:50:20.856Z"
   },
   {
    "duration": 0,
    "start_time": "2023-06-27T09:50:20.858Z"
   },
   {
    "duration": 0,
    "start_time": "2023-06-27T09:50:20.858Z"
   },
   {
    "duration": 35,
    "start_time": "2023-06-27T09:50:51.580Z"
   },
   {
    "duration": 48,
    "start_time": "2023-06-27T09:51:44.310Z"
   },
   {
    "duration": 21,
    "start_time": "2023-06-27T09:52:48.328Z"
   },
   {
    "duration": 47,
    "start_time": "2023-06-27T09:55:59.858Z"
   },
   {
    "duration": 22,
    "start_time": "2023-06-27T09:59:25.320Z"
   },
   {
    "duration": 36,
    "start_time": "2023-06-27T09:59:46.698Z"
   },
   {
    "duration": 28,
    "start_time": "2023-06-27T10:06:25.418Z"
   },
   {
    "duration": 486,
    "start_time": "2023-06-27T10:07:43.851Z"
   },
   {
    "duration": 22,
    "start_time": "2023-06-27T10:07:44.339Z"
   },
   {
    "duration": 17,
    "start_time": "2023-06-27T10:07:44.363Z"
   },
   {
    "duration": 13,
    "start_time": "2023-06-27T10:07:44.382Z"
   },
   {
    "duration": 34,
    "start_time": "2023-06-27T10:07:44.396Z"
   },
   {
    "duration": 4,
    "start_time": "2023-06-27T10:07:44.457Z"
   },
   {
    "duration": 36,
    "start_time": "2023-06-27T10:07:44.463Z"
   },
   {
    "duration": 4,
    "start_time": "2023-06-27T10:07:44.501Z"
   },
   {
    "duration": 8,
    "start_time": "2023-06-27T10:07:44.506Z"
   },
   {
    "duration": 6,
    "start_time": "2023-06-27T10:07:44.517Z"
   },
   {
    "duration": 45,
    "start_time": "2023-06-27T10:07:44.524Z"
   },
   {
    "duration": 9,
    "start_time": "2023-06-27T10:07:44.571Z"
   },
   {
    "duration": 3,
    "start_time": "2023-06-27T10:07:44.582Z"
   },
   {
    "duration": 13,
    "start_time": "2023-06-27T10:07:44.587Z"
   },
   {
    "duration": 21,
    "start_time": "2023-06-27T10:07:44.602Z"
   },
   {
    "duration": 46,
    "start_time": "2023-06-27T10:07:44.624Z"
   },
   {
    "duration": 3,
    "start_time": "2023-06-27T10:07:44.672Z"
   },
   {
    "duration": 16,
    "start_time": "2023-06-27T10:07:44.677Z"
   },
   {
    "duration": 8,
    "start_time": "2023-06-27T10:07:44.695Z"
   },
   {
    "duration": 5,
    "start_time": "2023-06-27T10:07:44.704Z"
   },
   {
    "duration": 11,
    "start_time": "2023-06-27T10:07:44.710Z"
   },
   {
    "duration": 51,
    "start_time": "2023-06-27T10:07:44.722Z"
   },
   {
    "duration": 88,
    "start_time": "2023-06-27T10:07:44.775Z"
   },
   {
    "duration": 0,
    "start_time": "2023-06-27T10:07:44.866Z"
   },
   {
    "duration": 0,
    "start_time": "2023-06-27T10:07:44.868Z"
   },
   {
    "duration": 0,
    "start_time": "2023-06-27T10:07:44.870Z"
   },
   {
    "duration": 15,
    "start_time": "2023-06-27T10:17:25.648Z"
   },
   {
    "duration": 1162,
    "start_time": "2023-06-27T10:17:44.092Z"
   },
   {
    "duration": 10,
    "start_time": "2023-06-27T10:18:40.006Z"
   },
   {
    "duration": 13,
    "start_time": "2023-06-27T10:20:46.799Z"
   },
   {
    "duration": 4,
    "start_time": "2023-06-27T10:29:25.415Z"
   },
   {
    "duration": 5,
    "start_time": "2023-06-27T10:29:33.429Z"
   },
   {
    "duration": 17,
    "start_time": "2023-06-27T10:34:55.020Z"
   },
   {
    "duration": 18,
    "start_time": "2023-06-27T10:35:49.224Z"
   },
   {
    "duration": 11,
    "start_time": "2023-06-27T10:37:32.421Z"
   },
   {
    "duration": 16,
    "start_time": "2023-06-27T10:37:46.116Z"
   },
   {
    "duration": 20,
    "start_time": "2023-06-27T10:52:41.437Z"
   },
   {
    "duration": 19,
    "start_time": "2023-06-27T10:54:35.558Z"
   },
   {
    "duration": 22,
    "start_time": "2023-06-27T10:55:10.012Z"
   },
   {
    "duration": 19,
    "start_time": "2023-06-27T10:56:37.700Z"
   },
   {
    "duration": 20,
    "start_time": "2023-06-27T10:57:11.003Z"
   },
   {
    "duration": 20,
    "start_time": "2023-06-27T11:14:22.380Z"
   },
   {
    "duration": 453,
    "start_time": "2023-06-27T11:15:01.604Z"
   },
   {
    "duration": 20,
    "start_time": "2023-06-27T11:18:04.571Z"
   },
   {
    "duration": 691,
    "start_time": "2023-06-27T11:27:36.201Z"
   },
   {
    "duration": 16,
    "start_time": "2023-06-27T11:28:27.388Z"
   },
   {
    "duration": 1508,
    "start_time": "2023-06-27T11:29:35.770Z"
   },
   {
    "duration": 1376,
    "start_time": "2023-06-27T11:36:06.495Z"
   },
   {
    "duration": 1438,
    "start_time": "2023-06-27T11:39:49.890Z"
   },
   {
    "duration": 1332,
    "start_time": "2023-06-27T11:41:57.400Z"
   },
   {
    "duration": 1422,
    "start_time": "2023-06-27T11:43:16.096Z"
   },
   {
    "duration": 14,
    "start_time": "2023-06-27T12:01:45.305Z"
   },
   {
    "duration": 945,
    "start_time": "2023-06-27T12:02:33.601Z"
   },
   {
    "duration": 12,
    "start_time": "2023-06-27T16:01:40.685Z"
   },
   {
    "duration": 531,
    "start_time": "2023-06-27T16:01:50.816Z"
   },
   {
    "duration": 42,
    "start_time": "2023-06-27T16:01:51.350Z"
   },
   {
    "duration": 26,
    "start_time": "2023-06-27T16:01:51.395Z"
   },
   {
    "duration": 18,
    "start_time": "2023-06-27T16:01:51.425Z"
   },
   {
    "duration": 57,
    "start_time": "2023-06-27T16:01:51.445Z"
   },
   {
    "duration": 5,
    "start_time": "2023-06-27T16:01:51.504Z"
   },
   {
    "duration": 22,
    "start_time": "2023-06-27T16:01:51.511Z"
   },
   {
    "duration": 34,
    "start_time": "2023-06-27T16:01:51.536Z"
   },
   {
    "duration": 24,
    "start_time": "2023-06-27T16:01:51.573Z"
   },
   {
    "duration": 31,
    "start_time": "2023-06-27T16:01:51.602Z"
   },
   {
    "duration": 57,
    "start_time": "2023-06-27T16:01:51.635Z"
   },
   {
    "duration": 17,
    "start_time": "2023-06-27T16:01:51.694Z"
   },
   {
    "duration": 13,
    "start_time": "2023-06-27T16:01:51.713Z"
   },
   {
    "duration": 38,
    "start_time": "2023-06-27T16:01:51.729Z"
   },
   {
    "duration": 41,
    "start_time": "2023-06-27T16:01:51.770Z"
   },
   {
    "duration": 22,
    "start_time": "2023-06-27T16:01:51.813Z"
   },
   {
    "duration": 6,
    "start_time": "2023-06-27T16:01:51.837Z"
   },
   {
    "duration": 56,
    "start_time": "2023-06-27T16:01:51.845Z"
   },
   {
    "duration": 25,
    "start_time": "2023-06-27T16:01:51.904Z"
   },
   {
    "duration": 6,
    "start_time": "2023-06-27T16:01:51.931Z"
   },
   {
    "duration": 72,
    "start_time": "2023-06-27T16:01:51.939Z"
   },
   {
    "duration": 58,
    "start_time": "2023-06-27T16:01:52.013Z"
   },
   {
    "duration": 28,
    "start_time": "2023-06-27T16:01:52.073Z"
   },
   {
    "duration": 24,
    "start_time": "2023-06-27T16:01:52.103Z"
   },
   {
    "duration": 30,
    "start_time": "2023-06-27T16:01:52.131Z"
   },
   {
    "duration": 35,
    "start_time": "2023-06-27T16:01:52.164Z"
   },
   {
    "duration": 32,
    "start_time": "2023-06-27T16:01:52.200Z"
   },
   {
    "duration": 116,
    "start_time": "2023-06-27T16:01:52.236Z"
   },
   {
    "duration": 0,
    "start_time": "2023-06-27T16:01:52.357Z"
   },
   {
    "duration": 20,
    "start_time": "2023-06-27T16:05:38.573Z"
   },
   {
    "duration": 18,
    "start_time": "2023-06-27T16:11:45.631Z"
   },
   {
    "duration": 4,
    "start_time": "2023-06-27T16:15:42.023Z"
   },
   {
    "duration": 18,
    "start_time": "2023-06-27T16:16:49.257Z"
   },
   {
    "duration": 2782,
    "start_time": "2023-06-27T16:18:48.334Z"
   },
   {
    "duration": 3209,
    "start_time": "2023-06-27T16:19:29.713Z"
   },
   {
    "duration": 4,
    "start_time": "2023-06-27T16:19:42.335Z"
   },
   {
    "duration": 29,
    "start_time": "2023-06-27T16:20:34.882Z"
   },
   {
    "duration": 26,
    "start_time": "2023-06-27T16:20:59.590Z"
   },
   {
    "duration": 319,
    "start_time": "2023-06-27T16:22:39.349Z"
   },
   {
    "duration": 5,
    "start_time": "2023-06-27T16:23:06.443Z"
   },
   {
    "duration": 5,
    "start_time": "2023-06-27T16:23:15.590Z"
   },
   {
    "duration": 9,
    "start_time": "2023-06-27T16:23:26.760Z"
   },
   {
    "duration": 13,
    "start_time": "2023-06-27T16:34:24.948Z"
   },
   {
    "duration": 22,
    "start_time": "2023-06-27T17:26:14.097Z"
   },
   {
    "duration": 21,
    "start_time": "2023-06-27T17:29:40.944Z"
   },
   {
    "duration": 544,
    "start_time": "2023-06-27T17:33:34.721Z"
   },
   {
    "duration": 25,
    "start_time": "2023-06-27T17:33:35.268Z"
   },
   {
    "duration": 14,
    "start_time": "2023-06-27T17:33:35.295Z"
   },
   {
    "duration": 11,
    "start_time": "2023-06-27T17:33:35.311Z"
   },
   {
    "duration": 60,
    "start_time": "2023-06-27T17:33:35.324Z"
   },
   {
    "duration": 4,
    "start_time": "2023-06-27T17:33:35.386Z"
   },
   {
    "duration": 13,
    "start_time": "2023-06-27T17:33:35.392Z"
   },
   {
    "duration": 11,
    "start_time": "2023-06-27T17:33:35.407Z"
   },
   {
    "duration": 25,
    "start_time": "2023-06-27T17:33:35.421Z"
   },
   {
    "duration": 8,
    "start_time": "2023-06-27T17:33:35.448Z"
   },
   {
    "duration": 36,
    "start_time": "2023-06-27T17:33:35.458Z"
   },
   {
    "duration": 14,
    "start_time": "2023-06-27T17:33:35.495Z"
   },
   {
    "duration": 5,
    "start_time": "2023-06-27T17:33:35.511Z"
   },
   {
    "duration": 43,
    "start_time": "2023-06-27T17:33:35.520Z"
   },
   {
    "duration": 43,
    "start_time": "2023-06-27T17:33:35.565Z"
   },
   {
    "duration": 24,
    "start_time": "2023-06-27T17:33:35.611Z"
   },
   {
    "duration": 4,
    "start_time": "2023-06-27T17:33:35.637Z"
   },
   {
    "duration": 28,
    "start_time": "2023-06-27T17:33:35.642Z"
   },
   {
    "duration": 7,
    "start_time": "2023-06-27T17:33:35.672Z"
   },
   {
    "duration": 19,
    "start_time": "2023-06-27T17:33:35.681Z"
   },
   {
    "duration": 12,
    "start_time": "2023-06-27T17:33:35.703Z"
   },
   {
    "duration": 17,
    "start_time": "2023-06-27T17:33:35.717Z"
   },
   {
    "duration": 42,
    "start_time": "2023-06-27T17:33:35.736Z"
   },
   {
    "duration": 22,
    "start_time": "2023-06-27T17:33:35.781Z"
   },
   {
    "duration": 21,
    "start_time": "2023-06-27T17:33:35.805Z"
   },
   {
    "duration": 48,
    "start_time": "2023-06-27T17:33:35.827Z"
   },
   {
    "duration": 28,
    "start_time": "2023-06-27T17:33:35.877Z"
   },
   {
    "duration": 49,
    "start_time": "2023-06-27T17:33:35.908Z"
   },
   {
    "duration": 30,
    "start_time": "2023-06-27T17:33:35.959Z"
   },
   {
    "duration": 27,
    "start_time": "2023-06-27T17:33:35.991Z"
   },
   {
    "duration": 608,
    "start_time": "2023-06-28T07:51:09.103Z"
   },
   {
    "duration": 25,
    "start_time": "2023-06-28T07:51:09.713Z"
   },
   {
    "duration": 21,
    "start_time": "2023-06-28T07:51:09.740Z"
   },
   {
    "duration": 22,
    "start_time": "2023-06-28T07:51:09.765Z"
   },
   {
    "duration": 46,
    "start_time": "2023-06-28T07:51:09.789Z"
   },
   {
    "duration": 4,
    "start_time": "2023-06-28T07:51:09.837Z"
   },
   {
    "duration": 32,
    "start_time": "2023-06-28T07:51:09.853Z"
   },
   {
    "duration": 6,
    "start_time": "2023-06-28T07:51:09.887Z"
   },
   {
    "duration": 12,
    "start_time": "2023-06-28T07:51:09.894Z"
   },
   {
    "duration": 6,
    "start_time": "2023-06-28T07:51:09.907Z"
   },
   {
    "duration": 52,
    "start_time": "2023-06-28T07:51:09.914Z"
   },
   {
    "duration": 13,
    "start_time": "2023-06-28T07:51:09.976Z"
   },
   {
    "duration": 4,
    "start_time": "2023-06-28T07:51:09.990Z"
   },
   {
    "duration": 20,
    "start_time": "2023-06-28T07:51:09.996Z"
   },
   {
    "duration": 25,
    "start_time": "2023-06-28T07:51:10.018Z"
   },
   {
    "duration": 34,
    "start_time": "2023-06-28T07:51:10.044Z"
   },
   {
    "duration": 4,
    "start_time": "2023-06-28T07:51:10.081Z"
   },
   {
    "duration": 13,
    "start_time": "2023-06-28T07:51:10.087Z"
   },
   {
    "duration": 11,
    "start_time": "2023-06-28T07:51:10.101Z"
   },
   {
    "duration": 3,
    "start_time": "2023-06-28T07:51:10.113Z"
   },
   {
    "duration": 14,
    "start_time": "2023-06-28T07:51:10.118Z"
   },
   {
    "duration": 43,
    "start_time": "2023-06-28T07:51:10.134Z"
   },
   {
    "duration": 22,
    "start_time": "2023-06-28T07:51:10.179Z"
   },
   {
    "duration": 20,
    "start_time": "2023-06-28T07:51:10.203Z"
   },
   {
    "duration": 20,
    "start_time": "2023-06-28T07:51:10.224Z"
   },
   {
    "duration": 33,
    "start_time": "2023-06-28T07:51:10.255Z"
   },
   {
    "duration": 22,
    "start_time": "2023-06-28T07:51:10.290Z"
   },
   {
    "duration": 12,
    "start_time": "2023-06-28T07:51:10.313Z"
   },
   {
    "duration": 38,
    "start_time": "2023-06-28T07:51:10.353Z"
   },
   {
    "duration": 25,
    "start_time": "2023-06-28T07:51:10.393Z"
   }
  ],
  "colab": {
   "provenance": []
  },
  "kernelspec": {
   "display_name": "Python 3 (ipykernel)",
   "language": "python",
   "name": "python3"
  },
  "language_info": {
   "codemirror_mode": {
    "name": "ipython",
    "version": 3
   },
   "file_extension": ".py",
   "mimetype": "text/x-python",
   "name": "python",
   "nbconvert_exporter": "python",
   "pygments_lexer": "ipython3",
   "version": "3.10.9"
  },
  "toc": {
   "base_numbering": 1,
   "nav_menu": {},
   "number_sections": true,
   "sideBar": true,
   "skip_h1_title": true,
   "title_cell": "Table of Contents",
   "title_sidebar": "Contents",
   "toc_cell": false,
   "toc_position": {},
   "toc_section_display": true,
   "toc_window_display": true
  }
 },
 "nbformat": 4,
 "nbformat_minor": 5
}
